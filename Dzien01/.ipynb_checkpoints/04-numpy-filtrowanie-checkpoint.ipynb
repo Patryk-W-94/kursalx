{
 "cells": [
  {
   "cell_type": "code",
   "execution_count": 1,
   "id": "a1ed22fa",
   "metadata": {},
   "outputs": [],
   "source": [
    "import numpy as np"
   ]
  },
  {
   "cell_type": "code",
   "execution_count": 2,
   "id": "1128f706",
   "metadata": {},
   "outputs": [],
   "source": [
    "# klasyczne filtrowanie\n",
    "numbers_list = [-1, 10, 15, 200, -200, 1000, 667, 997]"
   ]
  },
  {
   "cell_type": "code",
   "execution_count": 3,
   "id": "882066e9",
   "metadata": {},
   "outputs": [
    {
     "data": {
      "text/plain": [
       "[10, 15, 200, 1000, 667, 997]"
      ]
     },
     "execution_count": 3,
     "metadata": {},
     "output_type": "execute_result"
    }
   ],
   "source": [
    "[x for x in numbers_list if x>0]"
   ]
  },
  {
   "cell_type": "code",
   "execution_count": 6,
   "id": "95f79b91",
   "metadata": {},
   "outputs": [
    {
     "data": {
      "text/plain": [
       "[10, 15, 200, 1000, 667, 997]"
      ]
     },
     "execution_count": 6,
     "metadata": {},
     "output_type": "execute_result"
    }
   ],
   "source": [
    "def only_positive(x):\n",
    "    return x>0\n",
    "\n",
    "list(filter(only_positive, numbers_list ))"
   ]
  },
  {
   "cell_type": "code",
   "execution_count": 7,
   "id": "8559fa75",
   "metadata": {},
   "outputs": [
    {
     "data": {
      "text/plain": [
       "[10, 15, 200, 1000, 667, 997]"
      ]
     },
     "execution_count": 7,
     "metadata": {},
     "output_type": "execute_result"
    }
   ],
   "source": [
    "list(filter(lambda x: x>0 , numbers_list ))"
   ]
  },
  {
   "cell_type": "code",
   "execution_count": 8,
   "id": "e544c859",
   "metadata": {},
   "outputs": [
    {
     "data": {
      "text/plain": [
       "array([  -1,   10,   15,  200, -200, 1000,  667,  997])"
      ]
     },
     "execution_count": 8,
     "metadata": {},
     "output_type": "execute_result"
    }
   ],
   "source": [
    "arr = np.array(numbers_list)\n",
    "arr"
   ]
  },
  {
   "cell_type": "code",
   "execution_count": 10,
   "id": "22052c00",
   "metadata": {},
   "outputs": [
    {
     "data": {
      "text/plain": [
       "array([  10,   15,  200, 1000,  667,  997])"
      ]
     },
     "execution_count": 10,
     "metadata": {},
     "output_type": "execute_result"
    }
   ],
   "source": [
    "arr[arr>0]"
   ]
  },
  {
   "cell_type": "code",
   "execution_count": 11,
   "id": "0ac65f7b",
   "metadata": {},
   "outputs": [
    {
     "data": {
      "text/plain": [
       "[10, 15]"
      ]
     },
     "execution_count": 11,
     "metadata": {},
     "output_type": "execute_result"
    }
   ],
   "source": [
    "list(filter(lambda x: x>0 and x<100 , numbers_list ))"
   ]
  },
  {
   "cell_type": "code",
   "execution_count": 13,
   "id": "8cf23871",
   "metadata": {},
   "outputs": [
    {
     "data": {
      "text/plain": [
       "array([10, 15])"
      ]
     },
     "execution_count": 13,
     "metadata": {},
     "output_type": "execute_result"
    }
   ],
   "source": [
    "arr[(arr>0)&(arr<100)]"
   ]
  },
  {
   "cell_type": "code",
   "execution_count": 17,
   "id": "78b18a9f",
   "metadata": {},
   "outputs": [
    {
     "data": {
      "text/plain": [
       "[-1, 200, -200, 1000, 667, 997]"
      ]
     },
     "execution_count": 17,
     "metadata": {},
     "output_type": "execute_result"
    }
   ],
   "source": [
    "# < 0 lub > 100\n",
    "list( filter( lambda x: x<0 or x>100, numbers_list))"
   ]
  },
  {
   "cell_type": "code",
   "execution_count": 20,
   "id": "e3485624",
   "metadata": {},
   "outputs": [
    {
     "data": {
      "text/plain": [
       "array([  -1,  200, -200, 1000,  667,  997])"
      ]
     },
     "execution_count": 20,
     "metadata": {},
     "output_type": "execute_result"
    }
   ],
   "source": [
    "arr[ (arr<0)|(arr>100)]"
   ]
  },
  {
   "cell_type": "code",
   "execution_count": 21,
   "id": "fe164aba",
   "metadata": {},
   "outputs": [
    {
     "data": {
      "text/plain": [
       "array([-1.,  3.,  4., nan,  5.,  6., nan])"
      ]
     },
     "execution_count": 21,
     "metadata": {},
     "output_type": "execute_result"
    }
   ],
   "source": [
    "arr = np.array([-1, 3, 4, np.NaN, 5, 6, np.NaN])\n",
    "arr"
   ]
  },
  {
   "cell_type": "code",
   "execution_count": 22,
   "id": "c7833fda",
   "metadata": {},
   "outputs": [
    {
     "data": {
      "text/plain": [
       "nan"
      ]
     },
     "execution_count": 22,
     "metadata": {},
     "output_type": "execute_result"
    }
   ],
   "source": [
    "arr.sum()"
   ]
  },
  {
   "cell_type": "code",
   "execution_count": 25,
   "id": "dcbe38d7",
   "metadata": {},
   "outputs": [
    {
     "data": {
      "text/plain": [
       "array([-1.,  3.,  4.,  5.,  6.])"
      ]
     },
     "execution_count": 25,
     "metadata": {},
     "output_type": "execute_result"
    }
   ],
   "source": [
    "arr[~np.isnan(arr)]"
   ]
  },
  {
   "cell_type": "code",
   "execution_count": null,
   "id": "a93e6a4f",
   "metadata": {},
   "outputs": [],
   "source": []
  }
 ],
 "metadata": {
  "kernelspec": {
   "display_name": "Python 3",
   "language": "python",
   "name": "python3"
  },
  "language_info": {
   "codemirror_mode": {
    "name": "ipython",
    "version": 3
   },
   "file_extension": ".py",
   "mimetype": "text/x-python",
   "name": "python",
   "nbconvert_exporter": "python",
   "pygments_lexer": "ipython3",
   "version": "3.8.8"
  }
 },
 "nbformat": 4,
 "nbformat_minor": 5
}
