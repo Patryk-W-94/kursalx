{
 "cells": [
  {
   "cell_type": "code",
   "execution_count": 1,
   "id": "cfa47d41",
   "metadata": {},
   "outputs": [],
   "source": [
    "# ładowanie biblioteki Numpy\n",
    "import numpy as np"
   ]
  },
  {
   "cell_type": "code",
   "execution_count": 3,
   "id": "0cdd629d",
   "metadata": {},
   "outputs": [
    {
     "name": "stdout",
     "output_type": "stream",
     "text": [
      "2.0\n"
     ]
    }
   ],
   "source": [
    "lista = [2,-2,3,5]\n",
    "suma = 0\n",
    "#for x in lista: print(x, end=\",\")\n",
    "srednia = sum(lista)/len(lista)\n",
    "print(srednia)"
   ]
  },
  {
   "cell_type": "markdown",
   "id": "8907ca19",
   "metadata": {},
   "source": [
    "**A poniżej obliczam** średnią"
   ]
  },
  {
   "cell_type": "markdown",
   "id": "0ebbe7ca",
   "metadata": {},
   "source": [
    "# Nagłówek 1\n",
    "\n",
    "#### Nagłówek 4"
   ]
  },
  {
   "cell_type": "code",
   "execution_count": 4,
   "id": "0a79bd59",
   "metadata": {},
   "outputs": [
    {
     "data": {
      "text/plain": [
       "[2, -2, 3, 5]"
      ]
     },
     "execution_count": 4,
     "metadata": {},
     "output_type": "execute_result"
    }
   ],
   "source": [
    "lista"
   ]
  },
  {
   "cell_type": "code",
   "execution_count": null,
   "id": "0d442a0b",
   "metadata": {},
   "outputs": [],
   "source": []
  }
 ],
 "metadata": {
  "kernelspec": {
   "display_name": "Python 3",
   "language": "python",
   "name": "python3"
  },
  "language_info": {
   "codemirror_mode": {
    "name": "ipython",
    "version": 3
   },
   "file_extension": ".py",
   "mimetype": "text/x-python",
   "name": "python",
   "nbconvert_exporter": "python",
   "pygments_lexer": "ipython3",
   "version": "3.8.8"
  }
 },
 "nbformat": 4,
 "nbformat_minor": 5
}
