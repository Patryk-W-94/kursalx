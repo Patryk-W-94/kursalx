{
 "cells": [
  {
   "cell_type": "code",
   "execution_count": 1,
   "id": "2b890e85",
   "metadata": {},
   "outputs": [],
   "source": [
    "import numpy as np"
   ]
  },
  {
   "cell_type": "code",
   "execution_count": 2,
   "id": "aad63ab2",
   "metadata": {},
   "outputs": [
    {
     "data": {
      "text/plain": [
       "(array([10, 20, 30, 40, 50, 60, 70]), array([1, 2, 3, 4, 5, 6, 7]))"
      ]
     },
     "execution_count": 2,
     "metadata": {},
     "output_type": "execute_result"
    }
   ],
   "source": [
    "a = np.array([10,20,30,40,50,60,70])\n",
    "b = np.array([1,2,3,4,5,6,7])\n",
    "a,b"
   ]
  },
  {
   "cell_type": "code",
   "execution_count": 3,
   "id": "37c7426b",
   "metadata": {},
   "outputs": [
    {
     "data": {
      "text/plain": [
       "array([11, 22, 33, 44, 55, 66, 77])"
      ]
     },
     "execution_count": 3,
     "metadata": {},
     "output_type": "execute_result"
    }
   ],
   "source": [
    "a+b"
   ]
  },
  {
   "cell_type": "code",
   "execution_count": 4,
   "id": "2d6a6fc1",
   "metadata": {},
   "outputs": [
    {
     "data": {
      "text/plain": [
       "array([ 10,  40,  90, 160, 250, 360, 490])"
      ]
     },
     "execution_count": 4,
     "metadata": {},
     "output_type": "execute_result"
    }
   ],
   "source": [
    "a*b"
   ]
  },
  {
   "cell_type": "code",
   "execution_count": 5,
   "id": "94f0ab4c",
   "metadata": {},
   "outputs": [
    {
     "data": {
      "text/plain": [
       "array([ 20,  40,  60,  80, 100, 120, 140])"
      ]
     },
     "execution_count": 5,
     "metadata": {},
     "output_type": "execute_result"
    }
   ],
   "source": [
    "a*2"
   ]
  },
  {
   "cell_type": "code",
   "execution_count": 6,
   "id": "c2dae881",
   "metadata": {},
   "outputs": [
    {
     "data": {
      "text/plain": [
       "array([  1000,   8000,  27000,  64000, 125000, 216000, 343000],\n",
       "      dtype=int32)"
      ]
     },
     "execution_count": 6,
     "metadata": {},
     "output_type": "execute_result"
    }
   ],
   "source": [
    "a**3"
   ]
  },
  {
   "cell_type": "code",
   "execution_count": 7,
   "id": "7eadb5a1",
   "metadata": {},
   "outputs": [
    {
     "data": {
      "text/plain": [
       "array([ 5, 10, 15, 20, 25, 30, 35])"
      ]
     },
     "execution_count": 7,
     "metadata": {},
     "output_type": "execute_result"
    }
   ],
   "source": [
    "b*= 5\n",
    "b"
   ]
  },
  {
   "cell_type": "code",
   "execution_count": 8,
   "id": "582fd26e",
   "metadata": {},
   "outputs": [
    {
     "data": {
      "text/plain": [
       "array([ 1.66666667,  3.33333333,  5.        ,  6.66666667,  8.33333333,\n",
       "       10.        , 11.66666667])"
      ]
     },
     "execution_count": 8,
     "metadata": {},
     "output_type": "execute_result"
    }
   ],
   "source": [
    "b = b / 3\n",
    "b"
   ]
  },
  {
   "cell_type": "code",
   "execution_count": 19,
   "id": "fc4d0822",
   "metadata": {},
   "outputs": [
    {
     "data": {
      "text/plain": [
       "(1, 3)"
      ]
     },
     "execution_count": 19,
     "metadata": {},
     "output_type": "execute_result"
    }
   ],
   "source": [
    "arr1 = np.array([[1,2,3]])\n",
    "arr1\n",
    "arr1.shape"
   ]
  },
  {
   "cell_type": "code",
   "execution_count": 20,
   "id": "4bb25600",
   "metadata": {},
   "outputs": [
    {
     "data": {
      "text/plain": [
       "(3, 1)"
      ]
     },
     "execution_count": 20,
     "metadata": {},
     "output_type": "execute_result"
    }
   ],
   "source": [
    "arr2 = arr1.T; #transpose()\n",
    "arr2\n",
    "arr2.shape"
   ]
  },
  {
   "cell_type": "code",
   "execution_count": 21,
   "id": "a5d17021",
   "metadata": {},
   "outputs": [
    {
     "data": {
      "text/plain": [
       "array([[2, 3, 4],\n",
       "       [3, 4, 5],\n",
       "       [4, 5, 6]])"
      ]
     },
     "execution_count": 21,
     "metadata": {},
     "output_type": "execute_result"
    }
   ],
   "source": [
    "arr3 = arr1 + arr2\n",
    "arr3"
   ]
  },
  {
   "cell_type": "code",
   "execution_count": 22,
   "id": "7f41db36",
   "metadata": {},
   "outputs": [
    {
     "data": {
      "text/plain": [
       "array([[1, 2, 3],\n",
       "       [2, 4, 6],\n",
       "       [3, 6, 9]])"
      ]
     },
     "execution_count": 22,
     "metadata": {},
     "output_type": "execute_result"
    }
   ],
   "source": [
    "arr1 * arr2\n"
   ]
  },
  {
   "cell_type": "code",
   "execution_count": 23,
   "id": "136c702a",
   "metadata": {},
   "outputs": [
    {
     "data": {
      "text/plain": [
       "array([[14]])"
      ]
     },
     "execution_count": 23,
     "metadata": {},
     "output_type": "execute_result"
    }
   ],
   "source": [
    "np.dot(arr1, arr2)"
   ]
  },
  {
   "cell_type": "code",
   "execution_count": 27,
   "id": "456b3c30",
   "metadata": {},
   "outputs": [
    {
     "data": {
      "text/plain": [
       "array([[  2,   5, -10,  -7,  -7,  -3,  -1,   9],\n",
       "       [  8,  -6,  -4,   2,  -9,  -4,  -3,   4],\n",
       "       [  7,  -5,   3,  -2,  -1,   9,   6,   9],\n",
       "       [ -5,   5,   5, -10,   8,  -7,   7,   9],\n",
       "       [  9,   9,   4,  -3, -10,  -9,  -1, -10],\n",
       "       [  0,  -7,   1,   8,  -8, -10, -10,  -6],\n",
       "       [ -5,  -4,  -2,   7,   5,  -6,  -1,   0]])"
      ]
     },
     "execution_count": 27,
     "metadata": {},
     "output_type": "execute_result"
    }
   ],
   "source": [
    "np.random.seed(0)\n",
    "arr = np.random.randint(-10, 10, (7,8))\n",
    "arr"
   ]
  },
  {
   "cell_type": "code",
   "execution_count": 28,
   "id": "9c574854",
   "metadata": {},
   "outputs": [
    {
     "data": {
      "text/plain": [
       "(array([-5, -4, -2,  7,  5, -6, -1,  0]),\n",
       " array([-5, -4, -2,  7,  5, -6, -1,  0]))"
      ]
     },
     "execution_count": 28,
     "metadata": {},
     "output_type": "execute_result"
    }
   ],
   "source": [
    "arr[6], arr[-1]"
   ]
  },
  {
   "cell_type": "code",
   "execution_count": 29,
   "id": "f5fd922e",
   "metadata": {},
   "outputs": [
    {
     "data": {
      "text/plain": [
       "array([[ 8, -4, -9, -3],\n",
       "       [ 7,  3, -1,  6]])"
      ]
     },
     "execution_count": 29,
     "metadata": {},
     "output_type": "execute_result"
    }
   ],
   "source": [
    "# wiersz nr 2 i 3 oraz co 2-ga kolumna\n",
    "arr[ 1:3 , ::2 ]"
   ]
  },
  {
   "cell_type": "code",
   "execution_count": 30,
   "id": "ce48aaa4",
   "metadata": {},
   "outputs": [
    {
     "data": {
      "text/plain": [
       "array([[  2,   5, -10,  -7,  -7,  -3,  -1,   9],\n",
       "       [ -5,  -4,  -2,   7,   5,  -6,  -1,   0]])"
      ]
     },
     "execution_count": 30,
     "metadata": {},
     "output_type": "execute_result"
    }
   ],
   "source": [
    "# tylko pierwszy i ostatni wiersz\n",
    "arr[ [0,-1] ]"
   ]
  },
  {
   "cell_type": "code",
   "execution_count": 31,
   "id": "fad2788a",
   "metadata": {},
   "outputs": [
    {
     "data": {
      "text/plain": [
       "array([[  2,   5, -10,  -7,  -7,  -3,  -1,   9],\n",
       "       [  8,  -6,  -4,   2,  -9,  -4,  -3,   4],\n",
       "       [  7,  -5,   3,  -2,  -1,   9,   6,   9],\n",
       "       [ -5,   5,   5, -10,   8,  -7,   7,   9],\n",
       "       [  9,   9,   4,  -3, -10,  -9,  -1, -10],\n",
       "       [  0,  -7,   1,   8,  -8, -10, -10,  -6],\n",
       "       [ -5,  -4,  -2,   7,   5,  -6,  -1,   0]])"
      ]
     },
     "execution_count": 31,
     "metadata": {},
     "output_type": "execute_result"
    }
   ],
   "source": [
    "arr"
   ]
  },
  {
   "cell_type": "code",
   "execution_count": 32,
   "id": "66d6a4cc",
   "metadata": {},
   "outputs": [
    {
     "data": {
      "text/plain": [
       "array([  9,   4,   9,   9, -10,  -6,   0])"
      ]
     },
     "execution_count": 32,
     "metadata": {},
     "output_type": "execute_result"
    }
   ],
   "source": [
    "arr.T[-1]"
   ]
  },
  {
   "cell_type": "code",
   "execution_count": 33,
   "id": "920b7b5e",
   "metadata": {},
   "outputs": [
    {
     "data": {
      "text/plain": [
       "array([[  5,  -1],\n",
       "       [ -6,  -3],\n",
       "       [ -5,   6],\n",
       "       [  5,   7],\n",
       "       [  9,  -1],\n",
       "       [ -7, -10],\n",
       "       [ -4,  -1]])"
      ]
     },
     "execution_count": 33,
     "metadata": {},
     "output_type": "execute_result"
    }
   ],
   "source": [
    "# tylko kolumna 2 i przedostatnia\n",
    "arr[ : , [1,-2]]"
   ]
  },
  {
   "cell_type": "code",
   "execution_count": 35,
   "id": "1e2d9588",
   "metadata": {},
   "outputs": [
    {
     "data": {
      "text/plain": [
       "0"
      ]
     },
     "execution_count": 35,
     "metadata": {},
     "output_type": "execute_result"
    }
   ],
   "source": [
    "arr[-1,-1]"
   ]
  },
  {
   "cell_type": "code",
   "execution_count": 36,
   "id": "18913d75",
   "metadata": {},
   "outputs": [
    {
     "data": {
      "text/plain": [
       "array([[  2,   5, -10,  -7,  -7,  -3,  -1,   9],\n",
       "       [  8,  -6,  -4,   2,  -9,  -4,  -3,   4],\n",
       "       [  7,  -5,   3,  -2,  -1,   9,   6,   9],\n",
       "       [ -5,   5,   5, -10,   8,  -7,   7,   9],\n",
       "       [  9,   9,   4,  -3, -10,  -9,  -1, -10],\n",
       "       [  0,  -7,   1,   8,  -8, -10, -10,  -6],\n",
       "       [ -5,  -4,  -2,   7,   5,  -6,  -1,   0]])"
      ]
     },
     "execution_count": 36,
     "metadata": {},
     "output_type": "execute_result"
    }
   ],
   "source": [
    "arr"
   ]
  },
  {
   "cell_type": "code",
   "execution_count": 37,
   "id": "43d23160",
   "metadata": {},
   "outputs": [
    {
     "name": "stdout",
     "output_type": "stream",
     "text": [
      "[  2   5 -10  -7  -7  -3  -1   9]\n",
      "============================================================\n",
      "[ 8 -6 -4  2 -9 -4 -3  4]\n",
      "============================================================\n",
      "[ 7 -5  3 -2 -1  9  6  9]\n",
      "============================================================\n",
      "[ -5   5   5 -10   8  -7   7   9]\n",
      "============================================================\n",
      "[  9   9   4  -3 -10  -9  -1 -10]\n",
      "============================================================\n",
      "[  0  -7   1   8  -8 -10 -10  -6]\n",
      "============================================================\n",
      "[-5 -4 -2  7  5 -6 -1  0]\n",
      "============================================================\n"
     ]
    }
   ],
   "source": [
    "for row in arr:\n",
    "    print(row)\n",
    "    print(\"=\"*60)"
   ]
  },
  {
   "cell_type": "code",
   "execution_count": 38,
   "id": "d921da5a",
   "metadata": {},
   "outputs": [],
   "source": [
    "lista1 = [1,2,3,4]\n",
    "lista2 = lista1"
   ]
  },
  {
   "cell_type": "code",
   "execution_count": 40,
   "id": "e202be0c",
   "metadata": {},
   "outputs": [],
   "source": [
    "lista2[0] = -999"
   ]
  },
  {
   "cell_type": "code",
   "execution_count": 41,
   "id": "859c8e6a",
   "metadata": {},
   "outputs": [
    {
     "data": {
      "text/plain": [
       "[-999, 2, 3, 4]"
      ]
     },
     "execution_count": 41,
     "metadata": {},
     "output_type": "execute_result"
    }
   ],
   "source": [
    "lista1"
   ]
  },
  {
   "cell_type": "code",
   "execution_count": 42,
   "id": "2b991cf0",
   "metadata": {},
   "outputs": [],
   "source": [
    "lista1 = [1,2,3,4]\n",
    "lista2 = lista1.copy()"
   ]
  },
  {
   "cell_type": "code",
   "execution_count": 43,
   "id": "cc2a966b",
   "metadata": {},
   "outputs": [
    {
     "data": {
      "text/plain": [
       "([1, 2, 3, 4], [-999, 2, 3, 4])"
      ]
     },
     "execution_count": 43,
     "metadata": {},
     "output_type": "execute_result"
    }
   ],
   "source": [
    "lista2[0] = -999\n",
    "lista1, lista2"
   ]
  },
  {
   "cell_type": "code",
   "execution_count": 44,
   "id": "062cba0a",
   "metadata": {},
   "outputs": [],
   "source": [
    "arr2 = arr # to nie jest klonowanie tablicy"
   ]
  },
  {
   "cell_type": "code",
   "execution_count": 45,
   "id": "dedec1b8",
   "metadata": {},
   "outputs": [],
   "source": [
    "arr2 = np.copy(arr)"
   ]
  },
  {
   "cell_type": "code",
   "execution_count": 46,
   "id": "ca0c5dfa",
   "metadata": {},
   "outputs": [
    {
     "data": {
      "text/plain": [
       "(2125849287248, 2125837218896)"
      ]
     },
     "execution_count": 46,
     "metadata": {},
     "output_type": "execute_result"
    }
   ],
   "source": [
    "id(arr), id(arr2)"
   ]
  },
  {
   "cell_type": "markdown",
   "id": "5f3832c8",
   "metadata": {},
   "source": [
    "### Porownanie szybkosci list vs numpy"
   ]
  },
  {
   "cell_type": "code",
   "execution_count": 47,
   "id": "77559fbf",
   "metadata": {},
   "outputs": [
    {
     "name": "stdout",
     "output_type": "stream",
     "text": [
      "2.41 ms ± 86.9 µs per loop (mean ± std. dev. of 10 runs, 100 loops each)\n"
     ]
    }
   ],
   "source": [
    "%%timeit -r 10 -n 100\n",
    "[x**2 for x in range(10_000)]"
   ]
  },
  {
   "cell_type": "code",
   "execution_count": 49,
   "id": "59962215",
   "metadata": {},
   "outputs": [
    {
     "name": "stdout",
     "output_type": "stream",
     "text": [
      "18.9 µs ± 7.38 µs per loop (mean ± std. dev. of 10 runs, 100 loops each)\n"
     ]
    }
   ],
   "source": [
    "%%timeit -r 10 -n 100\n",
    "np.arange(10_000)**2"
   ]
  },
  {
   "cell_type": "code",
   "execution_count": 50,
   "id": "c39eea82",
   "metadata": {},
   "outputs": [
    {
     "data": {
      "text/plain": [
       "127.51322751322752"
      ]
     },
     "execution_count": 50,
     "metadata": {},
     "output_type": "execute_result"
    }
   ],
   "source": [
    "2.41E-3 / 18.9E-6"
   ]
  },
  {
   "cell_type": "code",
   "execution_count": null,
   "id": "12b389af",
   "metadata": {},
   "outputs": [],
   "source": []
  }
 ],
 "metadata": {
  "kernelspec": {
   "display_name": "Python 3",
   "language": "python",
   "name": "python3"
  },
  "language_info": {
   "codemirror_mode": {
    "name": "ipython",
    "version": 3
   },
   "file_extension": ".py",
   "mimetype": "text/x-python",
   "name": "python",
   "nbconvert_exporter": "python",
   "pygments_lexer": "ipython3",
   "version": "3.8.8"
  }
 },
 "nbformat": 4,
 "nbformat_minor": 5
}
