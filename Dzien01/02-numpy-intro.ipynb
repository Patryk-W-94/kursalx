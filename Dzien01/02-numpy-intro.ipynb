{
 "cells": [
  {
   "cell_type": "code",
   "execution_count": 1,
   "id": "e8d81f06",
   "metadata": {},
   "outputs": [],
   "source": [
    "import numpy as np"
   ]
  },
  {
   "cell_type": "code",
   "execution_count": 2,
   "id": "74dbc917",
   "metadata": {},
   "outputs": [
    {
     "data": {
      "text/plain": [
       "[1, None, 'Ala ma kota', {'x': -2, 'name': 'Jan'}, [1, 2, 3]]"
      ]
     },
     "execution_count": 2,
     "metadata": {},
     "output_type": "execute_result"
    }
   ],
   "source": [
    "_list = [1,None, \"Ala ma kota\", {\"x\":-2, \"name\":\"Jan\"}, [1,2,3]]\n",
    "_list"
   ]
  },
  {
   "cell_type": "code",
   "execution_count": 3,
   "id": "95e13b1e",
   "metadata": {},
   "outputs": [
    {
     "data": {
      "text/plain": [
       "['Ala ma kota', {'x': -2, 'name': 'Jan'}, [1, 2, 3]]"
      ]
     },
     "execution_count": 3,
     "metadata": {},
     "output_type": "execute_result"
    }
   ],
   "source": [
    "_list[2:]"
   ]
  },
  {
   "cell_type": "code",
   "execution_count": 4,
   "id": "0f0f7a25",
   "metadata": {},
   "outputs": [],
   "source": [
    "a = [1,3,5,7]\n",
    "b = [-1,-3,-5,-7]"
   ]
  },
  {
   "cell_type": "code",
   "execution_count": 5,
   "id": "2dff424e",
   "metadata": {},
   "outputs": [
    {
     "data": {
      "text/plain": [
       "[1, 3, 5, 7, -1, -3, -5, -7]"
      ]
     },
     "execution_count": 5,
     "metadata": {},
     "output_type": "execute_result"
    }
   ],
   "source": [
    "a + b"
   ]
  },
  {
   "cell_type": "code",
   "execution_count": 6,
   "id": "80df82eb",
   "metadata": {},
   "outputs": [
    {
     "data": {
      "text/plain": [
       "[0, 0, 0, 0]"
      ]
     },
     "execution_count": 6,
     "metadata": {},
     "output_type": "execute_result"
    }
   ],
   "source": [
    "result = []\n",
    "for x,y in zip(a,b):\n",
    "    result.append( x+y )\n",
    "result"
   ]
  },
  {
   "cell_type": "markdown",
   "id": "d4155c7c",
   "metadata": {},
   "source": [
    "### Tworzenie tablic numpy"
   ]
  },
  {
   "cell_type": "code",
   "execution_count": 8,
   "id": "09716b13",
   "metadata": {},
   "outputs": [
    {
     "data": {
      "text/plain": [
       "array([1, 3, 5, 7])"
      ]
     },
     "execution_count": 8,
     "metadata": {},
     "output_type": "execute_result"
    }
   ],
   "source": [
    "arr = np.array([1,3,5,7])\n",
    "arr"
   ]
  },
  {
   "cell_type": "code",
   "execution_count": 10,
   "id": "9544a44d",
   "metadata": {},
   "outputs": [
    {
     "data": {
      "text/plain": [
       "numpy.ndarray"
      ]
     },
     "execution_count": 10,
     "metadata": {},
     "output_type": "execute_result"
    }
   ],
   "source": [
    "type(arr)"
   ]
  },
  {
   "cell_type": "code",
   "execution_count": 11,
   "id": "dd033775",
   "metadata": {},
   "outputs": [
    {
     "data": {
      "text/plain": [
       "dtype('int32')"
      ]
     },
     "execution_count": 11,
     "metadata": {},
     "output_type": "execute_result"
    }
   ],
   "source": [
    "arr.dtype"
   ]
  },
  {
   "cell_type": "code",
   "execution_count": 12,
   "id": "8cd17c6e",
   "metadata": {},
   "outputs": [
    {
     "data": {
      "text/plain": [
       "(4,)"
      ]
     },
     "execution_count": 12,
     "metadata": {},
     "output_type": "execute_result"
    }
   ],
   "source": [
    "arr.shape"
   ]
  },
  {
   "cell_type": "code",
   "execution_count": 15,
   "id": "b80a4e4e",
   "metadata": {},
   "outputs": [
    {
     "data": {
      "text/plain": [
       "array([[1, 2, 3],\n",
       "       [4, 5, 6],\n",
       "       [7, 8, 9]])"
      ]
     },
     "execution_count": 15,
     "metadata": {},
     "output_type": "execute_result"
    }
   ],
   "source": [
    "arr = np.array([[1,2,3], [4,5,6], [7,8,9]])\n",
    "arr"
   ]
  },
  {
   "cell_type": "code",
   "execution_count": 16,
   "id": "099c7988",
   "metadata": {},
   "outputs": [
    {
     "data": {
      "text/plain": [
       "(3, 3)"
      ]
     },
     "execution_count": 16,
     "metadata": {},
     "output_type": "execute_result"
    }
   ],
   "source": [
    "arr.shape"
   ]
  },
  {
   "cell_type": "code",
   "execution_count": 17,
   "id": "83d3f1c2",
   "metadata": {},
   "outputs": [
    {
     "data": {
      "text/plain": [
       "array([[1, 2, 3],\n",
       "       [4, 5, 6],\n",
       "       [7, 8, 9]], dtype=int64)"
      ]
     },
     "execution_count": 17,
     "metadata": {},
     "output_type": "execute_result"
    }
   ],
   "source": [
    "arr = np.array([[1,2,3], [4,5,6], [7,8,9]], dtype=np.int64)\n",
    "arr"
   ]
  },
  {
   "cell_type": "code",
   "execution_count": 18,
   "id": "80cae8e7",
   "metadata": {},
   "outputs": [
    {
     "data": {
      "text/plain": [
       "array([[0, 2, 3],\n",
       "       [4, 5, 6],\n",
       "       [7, 8, 9]], dtype=uint8)"
      ]
     },
     "execution_count": 18,
     "metadata": {},
     "output_type": "execute_result"
    }
   ],
   "source": [
    "arr = np.array([[256,2,3], [4,5,6], [7,8,9]], dtype='uint8')\n",
    "arr"
   ]
  },
  {
   "cell_type": "code",
   "execution_count": 19,
   "id": "1daa9867",
   "metadata": {},
   "outputs": [
    {
     "data": {
      "text/plain": [
       "1"
      ]
     },
     "execution_count": 19,
     "metadata": {},
     "output_type": "execute_result"
    }
   ],
   "source": [
    "arr.itemsize"
   ]
  },
  {
   "cell_type": "code",
   "execution_count": 20,
   "id": "8822a599",
   "metadata": {},
   "outputs": [
    {
     "data": {
      "text/plain": [
       "array([[0., 0., 0., 0., 0.],\n",
       "       [0., 0., 0., 0., 0.],\n",
       "       [0., 0., 0., 0., 0.]], dtype=float16)"
      ]
     },
     "execution_count": 20,
     "metadata": {},
     "output_type": "execute_result"
    }
   ],
   "source": [
    "np.zeros( (3,5) , dtype='float16')"
   ]
  },
  {
   "cell_type": "code",
   "execution_count": 21,
   "id": "68ffc82c",
   "metadata": {},
   "outputs": [
    {
     "data": {
      "text/plain": [
       "array([[123., 123., 123., 123., 123., 123.],\n",
       "       [123., 123., 123., 123., 123., 123.],\n",
       "       [123., 123., 123., 123., 123., 123.]])"
      ]
     },
     "execution_count": 21,
     "metadata": {},
     "output_type": "execute_result"
    }
   ],
   "source": [
    "np.full( (3,6) , 123, dtype='float64' )"
   ]
  },
  {
   "cell_type": "code",
   "execution_count": 22,
   "id": "4795a305",
   "metadata": {},
   "outputs": [
    {
     "data": {
      "text/plain": [
       "array([[1., 1., 1., 1., 1.],\n",
       "       [1., 1., 1., 1., 1.],\n",
       "       [1., 1., 1., 1., 1.]])"
      ]
     },
     "execution_count": 22,
     "metadata": {},
     "output_type": "execute_result"
    }
   ],
   "source": [
    "np.ones( (3,5))"
   ]
  },
  {
   "cell_type": "code",
   "execution_count": 24,
   "id": "2c616296",
   "metadata": {},
   "outputs": [
    {
     "data": {
      "text/plain": [
       "array([[0, 0, 0, 0, 0, 0],\n",
       "       [1, 0, 0, 0, 0, 0],\n",
       "       [0, 2, 0, 0, 0, 0],\n",
       "       [0, 0, 3, 0, 0, 0],\n",
       "       [0, 0, 0, 4, 0, 0],\n",
       "       [0, 0, 0, 0, 5, 0]])"
      ]
     },
     "execution_count": 24,
     "metadata": {},
     "output_type": "execute_result"
    }
   ],
   "source": [
    "np.diag([1,2,3,4,5], k=-1)"
   ]
  },
  {
   "cell_type": "code",
   "execution_count": 26,
   "id": "e03bb562",
   "metadata": {},
   "outputs": [
    {
     "data": {
      "text/plain": [
       "array([[1, 0, 0, 0, 0, 0],\n",
       "       [0, 1, 0, 0, 0, 0],\n",
       "       [0, 0, 1, 0, 0, 0],\n",
       "       [0, 0, 0, 1, 0, 0],\n",
       "       [0, 0, 0, 0, 1, 0],\n",
       "       [0, 0, 0, 0, 0, 1]], dtype=int8)"
      ]
     },
     "execution_count": 26,
     "metadata": {},
     "output_type": "execute_result"
    }
   ],
   "source": [
    "np.eye(6, dtype='int8')"
   ]
  },
  {
   "cell_type": "code",
   "execution_count": 27,
   "id": "674ef670",
   "metadata": {},
   "outputs": [
    {
     "data": {
      "text/plain": [
       "array([ 0,  2,  4,  6,  8, 10, 12, 14, 16, 18, 20])"
      ]
     },
     "execution_count": 27,
     "metadata": {},
     "output_type": "execute_result"
    }
   ],
   "source": [
    "np.array(range(0,21,2))"
   ]
  },
  {
   "cell_type": "code",
   "execution_count": 29,
   "id": "73b12f4d",
   "metadata": {},
   "outputs": [
    {
     "data": {
      "text/plain": [
       "array([0.2 , 0.25, 0.3 , 0.35, 0.4 , 0.45, 0.5 , 0.55, 0.6 , 0.65, 0.7 ,\n",
       "       0.75, 0.8 ])"
      ]
     },
     "execution_count": 29,
     "metadata": {},
     "output_type": "execute_result"
    }
   ],
   "source": [
    "np.arange(0.2, 0.8, 0.05)"
   ]
  },
  {
   "cell_type": "code",
   "execution_count": 31,
   "id": "b3a9ada1",
   "metadata": {},
   "outputs": [
    {
     "data": {
      "text/plain": [
       "array([0.2, 0.3, 0.4, 0.5, 0.6, 0.7, 0.8])"
      ]
     },
     "execution_count": 31,
     "metadata": {},
     "output_type": "execute_result"
    }
   ],
   "source": [
    "np.linspace(0.2, 0.8,7)"
   ]
  },
  {
   "cell_type": "markdown",
   "id": "fbb18c9d",
   "metadata": {},
   "source": [
    "#### Generowanie wartości pseudolosowych"
   ]
  },
  {
   "cell_type": "code",
   "execution_count": 41,
   "id": "f50babca",
   "metadata": {},
   "outputs": [],
   "source": [
    "np.random.seed(0)"
   ]
  },
  {
   "cell_type": "code",
   "execution_count": 42,
   "id": "fc9692ab",
   "metadata": {},
   "outputs": [
    {
     "data": {
      "text/plain": [
       "array([[0.5488135 , 0.71518937, 0.60276338, 0.54488318, 0.4236548 ],\n",
       "       [0.64589411, 0.43758721, 0.891773  , 0.96366276, 0.38344152],\n",
       "       [0.79172504, 0.52889492, 0.56804456, 0.92559664, 0.07103606],\n",
       "       ...,\n",
       "       [0.70826439, 0.23870423, 0.21617686, 0.85791778, 0.58614579],\n",
       "       [0.91684361, 0.09826176, 0.10299709, 0.92252103, 0.17214585],\n",
       "       [0.8228564 , 0.9340419 , 0.53321674, 0.88081423, 0.26561703]])"
      ]
     },
     "execution_count": 42,
     "metadata": {},
     "output_type": "execute_result"
    }
   ],
   "source": [
    "arr=np.random.rand(100_000, 5)\n",
    "arr"
   ]
  },
  {
   "cell_type": "code",
   "execution_count": 43,
   "id": "188945dd",
   "metadata": {},
   "outputs": [
    {
     "data": {
      "text/plain": [
       "(100000, 5)"
      ]
     },
     "execution_count": 43,
     "metadata": {},
     "output_type": "execute_result"
    }
   ],
   "source": [
    "arr.shape"
   ]
  },
  {
   "cell_type": "code",
   "execution_count": 44,
   "id": "bcc558c1",
   "metadata": {},
   "outputs": [
    {
     "data": {
      "text/plain": [
       "(2.9504162779581122e-06, 0.9999990120313899)"
      ]
     },
     "execution_count": 44,
     "metadata": {},
     "output_type": "execute_result"
    }
   ],
   "source": [
    "np.min(arr), np.max(arr)"
   ]
  },
  {
   "cell_type": "code",
   "execution_count": 45,
   "id": "28471a5c",
   "metadata": {},
   "outputs": [],
   "source": [
    "import matplotlib.pyplot as plt"
   ]
  },
  {
   "cell_type": "code",
   "execution_count": 46,
   "id": "5246f1c4",
   "metadata": {},
   "outputs": [
    {
     "data": {
      "text/plain": [
       "<function matplotlib.pyplot.show(close=None, block=None)>"
      ]
     },
     "execution_count": 46,
     "metadata": {},
     "output_type": "execute_result"
    },
    {
     "data": {
      "image/png": "[encoded data removed]",
      "text/plain": [
       "<Figure size 432x288 with 1 Axes>"
      ]
     },
     "metadata": {
      "needs_background": "light"
     },
     "output_type": "display_data"
    }
   ],
   "source": [
    "plt.hist(arr.flatten()) # flatten zwraca tablice dwuwymiarowa\n",
    "plt.show"
   ]
  },
  {
   "cell_type": "code",
   "execution_count": 47,
   "id": "848d612c",
   "metadata": {},
   "outputs": [
    {
     "data": {
      "text/plain": [
       "array([-2.1251654 , -0.15429036, -0.33528767, ...,  2.04461074,\n",
       "        0.92622125,  0.52251562])"
      ]
     },
     "execution_count": 47,
     "metadata": {},
     "output_type": "execute_result"
    }
   ],
   "source": [
    "arr = np.random.randn(1_000_000)\n",
    "arr"
   ]
  },
  {
   "cell_type": "code",
   "execution_count": 48,
   "id": "e2b7c807",
   "metadata": {},
   "outputs": [
    {
     "data": {
      "text/plain": [
       "(1000000,)"
      ]
     },
     "execution_count": 48,
     "metadata": {},
     "output_type": "execute_result"
    }
   ],
   "source": [
    "arr.shape"
   ]
  },
  {
   "cell_type": "code",
   "execution_count": 49,
   "id": "f8056c20",
   "metadata": {},
   "outputs": [
    {
     "data": {
      "text/plain": [
       "<function matplotlib.pyplot.show(close=None, block=None)>"
      ]
     },
     "execution_count": 49,
     "metadata": {},
     "output_type": "execute_result"
    },
    {
     "data": {
      "image/png": "[encoded data removed]",
      "text/plain": [
       "<Figure size 432x288 with 1 Axes>"
      ]
     },
     "metadata": {
      "needs_background": "light"
     },
     "output_type": "display_data"
    }
   ],
   "source": [
    "plt.hist(arr, bins = 25)\n",
    "plt.show"
   ]
  },
  {
   "cell_type": "markdown",
   "id": "52473e44",
   "metadata": {},
   "source": [
    "### Odchylenie standardowe, średnia i inne parametry:"
   ]
  },
  {
   "cell_type": "code",
   "execution_count": 50,
   "id": "2a238cbc",
   "metadata": {},
   "outputs": [
    {
     "data": {
      "text/plain": [
       "(0.00024660398869397665, 0.0013292261398017908, 0.9998255639489788)"
      ]
     },
     "execution_count": 50,
     "metadata": {},
     "output_type": "execute_result"
    }
   ],
   "source": [
    "np.mean(arr), np.median(arr), np.std(arr)"
   ]
  },
  {
   "cell_type": "code",
   "execution_count": 51,
   "id": "8380ab20",
   "metadata": {},
   "outputs": [
    {
     "data": {
      "image/png": "[encoded data removed]",
      "text/plain": [
       "<Figure size 432x288 with 1 Axes>"
      ]
     },
     "metadata": {
      "needs_background": "light"
     },
     "output_type": "display_data"
    }
   ],
   "source": [
    "arr = np.random.choice([1,2,3,4], 30_000)\n",
    "plt.hist(arr);\n",
    "#plt.show()"
   ]
  },
  {
   "cell_type": "code",
   "execution_count": 53,
   "id": "f5f25a07",
   "metadata": {},
   "outputs": [
    {
     "name": "stdout",
     "output_type": "stream",
     "text": [
      "5 10 15\n"
     ]
    }
   ],
   "source": [
    "#a = 5\n",
    "#b = 10\n",
    "#c = 15\n",
    "a, b, c = 5, 10, 15\n",
    "a = 5; b=10; c=15;\n",
    "print(a,b,c)"
   ]
  },
  {
   "cell_type": "code",
   "execution_count": 54,
   "id": "7e998aea",
   "metadata": {},
   "outputs": [
    {
     "data": {
      "image/png": "[encoded data removed]",
      "text/plain": [
       "<Figure size 432x288 with 1 Axes>"
      ]
     },
     "metadata": {
      "needs_background": "light"
     },
     "output_type": "display_data"
    }
   ],
   "source": [
    "arr = np.random.choice(['A', 'B', 'C'], 30_000, p=[.2,.7,.1])\n",
    "plt.hist(arr);"
   ]
  },
  {
   "cell_type": "markdown",
   "id": "c211fc93",
   "metadata": {},
   "source": [
    "## Tworzenie tablicy na podstawie danych z pliku csv"
   ]
  },
  {
   "cell_type": "code",
   "execution_count": 57,
   "id": "27bfb190",
   "metadata": {},
   "outputs": [
    {
     "data": {
      "text/plain": [
       "array([[5.1, 3.5, 1.4, 0.2],\n",
       "       [4.9, 3. , 1.4, 0.2],\n",
       "       [4.7, 3.2, 1.3, 0.2],\n",
       "       [4.6, 3.1, 1.5, 0.2],\n",
       "       [5. , 3.6, 1.4, 0.2],\n",
       "       [5.4, 3.9, 1.7, 0.4],\n",
       "       [4.6, 3.4, 1.4, 0.3],\n",
       "       [5. , 3.4, 1.5, 0.2],\n",
       "       [4.4, 2.9, 1.4, 0.2],\n",
       "       [4.9, 3.1, 1.5, 0.1],\n",
       "       [5.4, 3.7, 1.5, 0.2],\n",
       "       [4.8, 3.4, 1.6, 0.2],\n",
       "       [4.8, 3. , 1.4, 0.1],\n",
       "       [4.3, 3. , 1.1, 0.1],\n",
       "       [5.8, 4. , 1.2, 0.2],\n",
       "       [5.7, 4.4, 1.5, 0.4],\n",
       "       [5.4, 3.9, 1.3, 0.4],\n",
       "       [5.1, 3.5, 1.4, 0.3],\n",
       "       [5.7, 3.8, 1.7, 0.3],\n",
       "       [5.1, 3.8, 1.5, 0.3],\n",
       "       [5.4, 3.4, 1.7, 0.2],\n",
       "       [5.1, 3.7, 1.5, 0.4],\n",
       "       [4.6, 3.6, 1. , 0.2],\n",
       "       [5.1, 3.3, 1.7, 0.5],\n",
       "       [4.8, 3.4, 1.9, 0.2],\n",
       "       [5. , 3. , 1.6, 0.2],\n",
       "       [5. , 3.4, 1.6, 0.4],\n",
       "       [5.2, 3.5, 1.5, 0.2],\n",
       "       [5.2, 3.4, 1.4, 0.2],\n",
       "       [4.7, 3.2, 1.6, 0.2],\n",
       "       [4.8, 3.1, 1.6, 0.2],\n",
       "       [5.4, 3.4, 1.5, 0.4],\n",
       "       [5.2, 4.1, 1.5, 0.1],\n",
       "       [5.5, 4.2, 1.4, 0.2],\n",
       "       [4.9, 3.1, 1.5, 0.1],\n",
       "       [5. , 3.2, 1.2, 0.2],\n",
       "       [5.5, 3.5, 1.3, 0.2],\n",
       "       [4.9, 3.1, 1.5, 0.1],\n",
       "       [4.4, 3. , 1.3, 0.2],\n",
       "       [5.1, 3.4, 1.5, 0.2],\n",
       "       [5. , 3.5, 1.3, 0.3],\n",
       "       [4.5, 2.3, 1.3, 0.3],\n",
       "       [4.4, 3.2, 1.3, 0.2],\n",
       "       [5. , 3.5, 1.6, 0.6],\n",
       "       [5.1, 3.8, 1.9, 0.4],\n",
       "       [4.8, 3. , 1.4, 0.3],\n",
       "       [5.1, 3.8, 1.6, 0.2],\n",
       "       [4.6, 3.2, 1.4, 0.2],\n",
       "       [5.3, 3.7, 1.5, 0.2],\n",
       "       [5. , 3.3, 1.4, 0.2],\n",
       "       [7. , 3.2, 4.7, 1.4],\n",
       "       [6.4, 3.2, 4.5, 1.5],\n",
       "       [6.9, 3.1, 4.9, 1.5],\n",
       "       [5.5, 2.3, 4. , 1.3],\n",
       "       [6.5, 2.8, 4.6, 1.5],\n",
       "       [5.7, 2.8, 4.5, 1.3],\n",
       "       [6.3, 3.3, 4.7, 1.6],\n",
       "       [4.9, 2.4, 3.3, 1. ],\n",
       "       [6.6, 2.9, 4.6, 1.3],\n",
       "       [5.2, 2.7, 3.9, 1.4],\n",
       "       [5. , 2. , 3.5, 1. ],\n",
       "       [5.9, 3. , 4.2, 1.5],\n",
       "       [6. , 2.2, 4. , 1. ],\n",
       "       [6.1, 2.9, 4.7, 1.4],\n",
       "       [5.6, 2.9, 3.6, 1.3],\n",
       "       [6.7, 3.1, 4.4, 1.4],\n",
       "       [5.6, 3. , 4.5, 1.5],\n",
       "       [5.8, 2.7, 4.1, 1. ],\n",
       "       [6.2, 2.2, 4.5, 1.5],\n",
       "       [5.6, 2.5, 3.9, 1.1],\n",
       "       [5.9, 3.2, 4.8, 1.8],\n",
       "       [6.1, 2.8, 4. , 1.3],\n",
       "       [6.3, 2.5, 4.9, 1.5],\n",
       "       [6.1, 2.8, 4.7, 1.2],\n",
       "       [6.4, 2.9, 4.3, 1.3],\n",
       "       [6.6, 3. , 4.4, 1.4],\n",
       "       [6.8, 2.8, 4.8, 1.4],\n",
       "       [6.7, 3. , 5. , 1.7],\n",
       "       [6. , 2.9, 4.5, 1.5],\n",
       "       [5.7, 2.6, 3.5, 1. ],\n",
       "       [5.5, 2.4, 3.8, 1.1],\n",
       "       [5.5, 2.4, 3.7, 1. ],\n",
       "       [5.8, 2.7, 3.9, 1.2],\n",
       "       [6. , 2.7, 5.1, 1.6],\n",
       "       [5.4, 3. , 4.5, 1.5],\n",
       "       [6. , 3.4, 4.5, 1.6],\n",
       "       [6.7, 3.1, 4.7, 1.5],\n",
       "       [6.3, 2.3, 4.4, 1.3],\n",
       "       [5.6, 3. , 4.1, 1.3],\n",
       "       [5.5, 2.5, 4. , 1.3],\n",
       "       [5.5, 2.6, 4.4, 1.2],\n",
       "       [6.1, 3. , 4.6, 1.4],\n",
       "       [5.8, 2.6, 4. , 1.2],\n",
       "       [5. , 2.3, 3.3, 1. ],\n",
       "       [5.6, 2.7, 4.2, 1.3],\n",
       "       [5.7, 3. , 4.2, 1.2],\n",
       "       [5.7, 2.9, 4.2, 1.3],\n",
       "       [6.2, 2.9, 4.3, 1.3],\n",
       "       [5.1, 2.5, 3. , 1.1],\n",
       "       [5.7, 2.8, 4.1, 1.3],\n",
       "       [6.3, 3.3, 6. , 2.5],\n",
       "       [5.8, 2.7, 5.1, 1.9],\n",
       "       [7.1, 3. , 5.9, 2.1],\n",
       "       [6.3, 2.9, 5.6, 1.8],\n",
       "       [6.5, 3. , 5.8, 2.2],\n",
       "       [7.6, 3. , 6.6, 2.1],\n",
       "       [4.9, 2.5, 4.5, 1.7],\n",
       "       [7.3, 2.9, 6.3, 1.8],\n",
       "       [6.7, 2.5, 5.8, 1.8],\n",
       "       [7.2, 3.6, 6.1, 2.5],\n",
       "       [6.5, 3.2, 5.1, 2. ],\n",
       "       [6.4, 2.7, 5.3, 1.9],\n",
       "       [6.8, 3. , 5.5, 2.1],\n",
       "       [5.7, 2.5, 5. , 2. ],\n",
       "       [5.8, 2.8, 5.1, 2.4],\n",
       "       [6.4, 3.2, 5.3, 2.3],\n",
       "       [6.5, 3. , 5.5, 1.8],\n",
       "       [7.7, 3.8, 6.7, 2.2],\n",
       "       [7.7, 2.6, 6.9, 2.3],\n",
       "       [6. , 2.2, 5. , 1.5],\n",
       "       [6.9, 3.2, 5.7, 2.3],\n",
       "       [5.6, 2.8, 4.9, 2. ],\n",
       "       [7.7, 2.8, 6.7, 2. ],\n",
       "       [6.3, 2.7, 4.9, 1.8],\n",
       "       [6.7, 3.3, 5.7, 2.1],\n",
       "       [7.2, 3.2, 6. , 1.8],\n",
       "       [6.2, 2.8, 4.8, 1.8],\n",
       "       [6.1, 3. , 4.9, 1.8],\n",
       "       [6.4, 2.8, 5.6, 2.1],\n",
       "       [7.2, 3. , 5.8, 1.6],\n",
       "       [7.4, 2.8, 6.1, 1.9],\n",
       "       [7.9, 3.8, 6.4, 2. ],\n",
       "       [6.4, 2.8, 5.6, 2.2],\n",
       "       [6.3, 2.8, 5.1, 1.5],\n",
       "       [6.1, 2.6, 5.6, 1.4],\n",
       "       [7.7, 3. , 6.1, 2.3],\n",
       "       [6.3, 3.4, 5.6, 2.4],\n",
       "       [6.4, 3.1, 5.5, 1.8],\n",
       "       [6. , 3. , 4.8, 1.8],\n",
       "       [6.9, 3.1, 5.4, 2.1],\n",
       "       [6.7, 3.1, 5.6, 2.4],\n",
       "       [6.9, 3.1, 5.1, 2.3],\n",
       "       [5.8, 2.7, 5.1, 1.9],\n",
       "       [6.8, 3.2, 5.9, 2.3],\n",
       "       [6.7, 3.3, 5.7, 2.5],\n",
       "       [6.7, 3. , 5.2, 2.3],\n",
       "       [6.3, 2.5, 5. , 1.9],\n",
       "       [6.5, 3. , 5.2, 2. ],\n",
       "       [6.2, 3.4, 5.4, 2.3],\n",
       "       [5.9, 3. , 5.1, 1.8]])"
      ]
     },
     "execution_count": 57,
     "metadata": {},
     "output_type": "execute_result"
    }
   ],
   "source": [
    "url = \"http://51.91.120.89/extras/iris.csv\"\n",
    "arr = np.genfromtxt(url, delimiter=\",\", usecols=[0,1,2,3], skip_header=1)\n",
    "arr"
   ]
  },
  {
   "cell_type": "code",
   "execution_count": 58,
   "id": "ea5b8573",
   "metadata": {},
   "outputs": [
    {
     "data": {
      "text/plain": [
       "(150, 4)"
      ]
     },
     "execution_count": 58,
     "metadata": {},
     "output_type": "execute_result"
    }
   ],
   "source": [
    "arr.shape"
   ]
  },
  {
   "cell_type": "code",
   "execution_count": 60,
   "id": "0e327099",
   "metadata": {},
   "outputs": [],
   "source": [
    "np.savetxt(\"numpy.csv\", arr, fmt=\"%.5f\", delimiter=\"|\")"
   ]
  },
  {
   "cell_type": "markdown",
   "id": "2a908a50",
   "metadata": {},
   "source": [
    "### Zmiana kształtu tabeli"
   ]
  },
  {
   "cell_type": "code",
   "execution_count": 61,
   "id": "c2a933d0",
   "metadata": {},
   "outputs": [
    {
     "data": {
      "text/plain": [
       "(150, 4)"
      ]
     },
     "execution_count": 61,
     "metadata": {},
     "output_type": "execute_result"
    }
   ],
   "source": [
    "arr.shape"
   ]
  },
  {
   "cell_type": "code",
   "execution_count": 63,
   "id": "c60fb777",
   "metadata": {},
   "outputs": [
    {
     "data": {
      "text/plain": [
       "array([5.1, 3.5, 1.4, 0.2, 4.9, 3. , 1.4, 0.2, 4.7, 3.2, 1.3, 0.2, 4.6,\n",
       "       3.1, 1.5, 0.2, 5. , 3.6, 1.4, 0.2, 5.4, 3.9, 1.7, 0.4, 4.6, 3.4,\n",
       "       1.4, 0.3, 5. , 3.4, 1.5, 0.2, 4.4, 2.9, 1.4, 0.2, 4.9, 3.1, 1.5,\n",
       "       0.1, 5.4, 3.7, 1.5, 0.2, 4.8, 3.4, 1.6, 0.2, 4.8, 3. , 1.4, 0.1,\n",
       "       4.3, 3. , 1.1, 0.1, 5.8, 4. , 1.2, 0.2, 5.7, 4.4, 1.5, 0.4, 5.4,\n",
       "       3.9, 1.3, 0.4, 5.1, 3.5, 1.4, 0.3, 5.7, 3.8, 1.7, 0.3, 5.1, 3.8,\n",
       "       1.5, 0.3, 5.4, 3.4, 1.7, 0.2, 5.1, 3.7, 1.5, 0.4, 4.6, 3.6, 1. ,\n",
       "       0.2, 5.1, 3.3, 1.7, 0.5, 4.8, 3.4, 1.9, 0.2, 5. , 3. , 1.6, 0.2,\n",
       "       5. , 3.4, 1.6, 0.4, 5.2, 3.5, 1.5, 0.2, 5.2, 3.4, 1.4, 0.2, 4.7,\n",
       "       3.2, 1.6, 0.2, 4.8, 3.1, 1.6, 0.2, 5.4, 3.4, 1.5, 0.4, 5.2, 4.1,\n",
       "       1.5, 0.1, 5.5, 4.2, 1.4, 0.2, 4.9, 3.1, 1.5, 0.1, 5. , 3.2, 1.2,\n",
       "       0.2, 5.5, 3.5, 1.3, 0.2, 4.9, 3.1, 1.5, 0.1, 4.4, 3. , 1.3, 0.2,\n",
       "       5.1, 3.4, 1.5, 0.2, 5. , 3.5, 1.3, 0.3, 4.5, 2.3, 1.3, 0.3, 4.4,\n",
       "       3.2, 1.3, 0.2, 5. , 3.5, 1.6, 0.6, 5.1, 3.8, 1.9, 0.4, 4.8, 3. ,\n",
       "       1.4, 0.3, 5.1, 3.8, 1.6, 0.2, 4.6, 3.2, 1.4, 0.2, 5.3, 3.7, 1.5,\n",
       "       0.2, 5. , 3.3, 1.4, 0.2, 7. , 3.2, 4.7, 1.4, 6.4, 3.2, 4.5, 1.5,\n",
       "       6.9, 3.1, 4.9, 1.5, 5.5, 2.3, 4. , 1.3, 6.5, 2.8, 4.6, 1.5, 5.7,\n",
       "       2.8, 4.5, 1.3, 6.3, 3.3, 4.7, 1.6, 4.9, 2.4, 3.3, 1. , 6.6, 2.9,\n",
       "       4.6, 1.3, 5.2, 2.7, 3.9, 1.4, 5. , 2. , 3.5, 1. , 5.9, 3. , 4.2,\n",
       "       1.5, 6. , 2.2, 4. , 1. , 6.1, 2.9, 4.7, 1.4, 5.6, 2.9, 3.6, 1.3,\n",
       "       6.7, 3.1, 4.4, 1.4, 5.6, 3. , 4.5, 1.5, 5.8, 2.7, 4.1, 1. , 6.2,\n",
       "       2.2, 4.5, 1.5, 5.6, 2.5, 3.9, 1.1, 5.9, 3.2, 4.8, 1.8, 6.1, 2.8,\n",
       "       4. , 1.3, 6.3, 2.5, 4.9, 1.5, 6.1, 2.8, 4.7, 1.2, 6.4, 2.9, 4.3,\n",
       "       1.3, 6.6, 3. , 4.4, 1.4, 6.8, 2.8, 4.8, 1.4, 6.7, 3. , 5. , 1.7,\n",
       "       6. , 2.9, 4.5, 1.5, 5.7, 2.6, 3.5, 1. , 5.5, 2.4, 3.8, 1.1, 5.5,\n",
       "       2.4, 3.7, 1. , 5.8, 2.7, 3.9, 1.2, 6. , 2.7, 5.1, 1.6, 5.4, 3. ,\n",
       "       4.5, 1.5, 6. , 3.4, 4.5, 1.6, 6.7, 3.1, 4.7, 1.5, 6.3, 2.3, 4.4,\n",
       "       1.3, 5.6, 3. , 4.1, 1.3, 5.5, 2.5, 4. , 1.3, 5.5, 2.6, 4.4, 1.2,\n",
       "       6.1, 3. , 4.6, 1.4, 5.8, 2.6, 4. , 1.2, 5. , 2.3, 3.3, 1. , 5.6,\n",
       "       2.7, 4.2, 1.3, 5.7, 3. , 4.2, 1.2, 5.7, 2.9, 4.2, 1.3, 6.2, 2.9,\n",
       "       4.3, 1.3, 5.1, 2.5, 3. , 1.1, 5.7, 2.8, 4.1, 1.3, 6.3, 3.3, 6. ,\n",
       "       2.5, 5.8, 2.7, 5.1, 1.9, 7.1, 3. , 5.9, 2.1, 6.3, 2.9, 5.6, 1.8,\n",
       "       6.5, 3. , 5.8, 2.2, 7.6, 3. , 6.6, 2.1, 4.9, 2.5, 4.5, 1.7, 7.3,\n",
       "       2.9, 6.3, 1.8, 6.7, 2.5, 5.8, 1.8, 7.2, 3.6, 6.1, 2.5, 6.5, 3.2,\n",
       "       5.1, 2. , 6.4, 2.7, 5.3, 1.9, 6.8, 3. , 5.5, 2.1, 5.7, 2.5, 5. ,\n",
       "       2. , 5.8, 2.8, 5.1, 2.4, 6.4, 3.2, 5.3, 2.3, 6.5, 3. , 5.5, 1.8,\n",
       "       7.7, 3.8, 6.7, 2.2, 7.7, 2.6, 6.9, 2.3, 6. , 2.2, 5. , 1.5, 6.9,\n",
       "       3.2, 5.7, 2.3, 5.6, 2.8, 4.9, 2. , 7.7, 2.8, 6.7, 2. , 6.3, 2.7,\n",
       "       4.9, 1.8, 6.7, 3.3, 5.7, 2.1, 7.2, 3.2, 6. , 1.8, 6.2, 2.8, 4.8,\n",
       "       1.8, 6.1, 3. , 4.9, 1.8, 6.4, 2.8, 5.6, 2.1, 7.2, 3. , 5.8, 1.6,\n",
       "       7.4, 2.8, 6.1, 1.9, 7.9, 3.8, 6.4, 2. , 6.4, 2.8, 5.6, 2.2, 6.3,\n",
       "       2.8, 5.1, 1.5, 6.1, 2.6, 5.6, 1.4, 7.7, 3. , 6.1, 2.3, 6.3, 3.4,\n",
       "       5.6, 2.4, 6.4, 3.1, 5.5, 1.8, 6. , 3. , 4.8, 1.8, 6.9, 3.1, 5.4,\n",
       "       2.1, 6.7, 3.1, 5.6, 2.4, 6.9, 3.1, 5.1, 2.3, 5.8, 2.7, 5.1, 1.9,\n",
       "       6.8, 3.2, 5.9, 2.3, 6.7, 3.3, 5.7, 2.5, 6.7, 3. , 5.2, 2.3, 6.3,\n",
       "       2.5, 5. , 1.9, 6.5, 3. , 5.2, 2. , 6.2, 3.4, 5.4, 2.3, 5.9, 3. ,\n",
       "       5.1, 1.8])"
      ]
     },
     "execution_count": 63,
     "metadata": {},
     "output_type": "execute_result"
    }
   ],
   "source": [
    "arr.flatten()"
   ]
  },
  {
   "cell_type": "code",
   "execution_count": 67,
   "id": "0ea79dbd",
   "metadata": {},
   "outputs": [
    {
     "data": {
      "text/plain": [
       "(30, 20)"
      ]
     },
     "execution_count": 67,
     "metadata": {},
     "output_type": "execute_result"
    }
   ],
   "source": [
    "# zmiana na 30 wierszy i 20 kolumn\n",
    "arr = arr.reshape(30,20)\n",
    "arr.shape"
   ]
  },
  {
   "cell_type": "code",
   "execution_count": 70,
   "id": "dc850df8",
   "metadata": {},
   "outputs": [
    {
     "data": {
      "text/plain": [
       "(6, 100)"
      ]
     },
     "execution_count": 70,
     "metadata": {},
     "output_type": "execute_result"
    }
   ],
   "source": [
    "arr = arr.reshape(-1, 100)\n",
    "arr.shape"
   ]
  },
  {
   "cell_type": "code",
   "execution_count": 71,
   "id": "b3647f2b",
   "metadata": {},
   "outputs": [
    {
     "data": {
      "text/plain": [
       "(10, 10, 6)"
      ]
     },
     "execution_count": 71,
     "metadata": {},
     "output_type": "execute_result"
    }
   ],
   "source": [
    "arr = arr.reshape(10,10,6)\n",
    "arr.shape"
   ]
  },
  {
   "cell_type": "code",
   "execution_count": 72,
   "id": "c9ffe539",
   "metadata": {},
   "outputs": [
    {
     "data": {
      "text/plain": [
       "(20, 5, 6)"
      ]
     },
     "execution_count": 72,
     "metadata": {},
     "output_type": "execute_result"
    }
   ],
   "source": [
    "arr = arr.reshape(20, 5, -1)\n",
    "arr.shape"
   ]
  },
  {
   "cell_type": "code",
   "execution_count": 73,
   "id": "557e7e26",
   "metadata": {},
   "outputs": [
    {
     "data": {
      "text/plain": [
       "array([[[5.1, 3.5, 1.4, 0.2, 4.9, 3. ],\n",
       "        [1.4, 0.2, 4.7, 3.2, 1.3, 0.2],\n",
       "        [4.6, 3.1, 1.5, 0.2, 5. , 3.6],\n",
       "        [1.4, 0.2, 5.4, 3.9, 1.7, 0.4],\n",
       "        [4.6, 3.4, 1.4, 0.3, 5. , 3.4]],\n",
       "\n",
       "       [[1.5, 0.2, 4.4, 2.9, 1.4, 0.2],\n",
       "        [4.9, 3.1, 1.5, 0.1, 5.4, 3.7],\n",
       "        [1.5, 0.2, 4.8, 3.4, 1.6, 0.2],\n",
       "        [4.8, 3. , 1.4, 0.1, 4.3, 3. ],\n",
       "        [1.1, 0.1, 5.8, 4. , 1.2, 0.2]],\n",
       "\n",
       "       [[5.7, 4.4, 1.5, 0.4, 5.4, 3.9],\n",
       "        [1.3, 0.4, 5.1, 3.5, 1.4, 0.3],\n",
       "        [5.7, 3.8, 1.7, 0.3, 5.1, 3.8],\n",
       "        [1.5, 0.3, 5.4, 3.4, 1.7, 0.2],\n",
       "        [5.1, 3.7, 1.5, 0.4, 4.6, 3.6]],\n",
       "\n",
       "       [[1. , 0.2, 5.1, 3.3, 1.7, 0.5],\n",
       "        [4.8, 3.4, 1.9, 0.2, 5. , 3. ],\n",
       "        [1.6, 0.2, 5. , 3.4, 1.6, 0.4],\n",
       "        [5.2, 3.5, 1.5, 0.2, 5.2, 3.4],\n",
       "        [1.4, 0.2, 4.7, 3.2, 1.6, 0.2]],\n",
       "\n",
       "       [[4.8, 3.1, 1.6, 0.2, 5.4, 3.4],\n",
       "        [1.5, 0.4, 5.2, 4.1, 1.5, 0.1],\n",
       "        [5.5, 4.2, 1.4, 0.2, 4.9, 3.1],\n",
       "        [1.5, 0.1, 5. , 3.2, 1.2, 0.2],\n",
       "        [5.5, 3.5, 1.3, 0.2, 4.9, 3.1]],\n",
       "\n",
       "       [[1.5, 0.1, 4.4, 3. , 1.3, 0.2],\n",
       "        [5.1, 3.4, 1.5, 0.2, 5. , 3.5],\n",
       "        [1.3, 0.3, 4.5, 2.3, 1.3, 0.3],\n",
       "        [4.4, 3.2, 1.3, 0.2, 5. , 3.5],\n",
       "        [1.6, 0.6, 5.1, 3.8, 1.9, 0.4]],\n",
       "\n",
       "       [[4.8, 3. , 1.4, 0.3, 5.1, 3.8],\n",
       "        [1.6, 0.2, 4.6, 3.2, 1.4, 0.2],\n",
       "        [5.3, 3.7, 1.5, 0.2, 5. , 3.3],\n",
       "        [1.4, 0.2, 7. , 3.2, 4.7, 1.4],\n",
       "        [6.4, 3.2, 4.5, 1.5, 6.9, 3.1]],\n",
       "\n",
       "       [[4.9, 1.5, 5.5, 2.3, 4. , 1.3],\n",
       "        [6.5, 2.8, 4.6, 1.5, 5.7, 2.8],\n",
       "        [4.5, 1.3, 6.3, 3.3, 4.7, 1.6],\n",
       "        [4.9, 2.4, 3.3, 1. , 6.6, 2.9],\n",
       "        [4.6, 1.3, 5.2, 2.7, 3.9, 1.4]],\n",
       "\n",
       "       [[5. , 2. , 3.5, 1. , 5.9, 3. ],\n",
       "        [4.2, 1.5, 6. , 2.2, 4. , 1. ],\n",
       "        [6.1, 2.9, 4.7, 1.4, 5.6, 2.9],\n",
       "        [3.6, 1.3, 6.7, 3.1, 4.4, 1.4],\n",
       "        [5.6, 3. , 4.5, 1.5, 5.8, 2.7]],\n",
       "\n",
       "       [[4.1, 1. , 6.2, 2.2, 4.5, 1.5],\n",
       "        [5.6, 2.5, 3.9, 1.1, 5.9, 3.2],\n",
       "        [4.8, 1.8, 6.1, 2.8, 4. , 1.3],\n",
       "        [6.3, 2.5, 4.9, 1.5, 6.1, 2.8],\n",
       "        [4.7, 1.2, 6.4, 2.9, 4.3, 1.3]],\n",
       "\n",
       "       [[6.6, 3. , 4.4, 1.4, 6.8, 2.8],\n",
       "        [4.8, 1.4, 6.7, 3. , 5. , 1.7],\n",
       "        [6. , 2.9, 4.5, 1.5, 5.7, 2.6],\n",
       "        [3.5, 1. , 5.5, 2.4, 3.8, 1.1],\n",
       "        [5.5, 2.4, 3.7, 1. , 5.8, 2.7]],\n",
       "\n",
       "       [[3.9, 1.2, 6. , 2.7, 5.1, 1.6],\n",
       "        [5.4, 3. , 4.5, 1.5, 6. , 3.4],\n",
       "        [4.5, 1.6, 6.7, 3.1, 4.7, 1.5],\n",
       "        [6.3, 2.3, 4.4, 1.3, 5.6, 3. ],\n",
       "        [4.1, 1.3, 5.5, 2.5, 4. , 1.3]],\n",
       "\n",
       "       [[5.5, 2.6, 4.4, 1.2, 6.1, 3. ],\n",
       "        [4.6, 1.4, 5.8, 2.6, 4. , 1.2],\n",
       "        [5. , 2.3, 3.3, 1. , 5.6, 2.7],\n",
       "        [4.2, 1.3, 5.7, 3. , 4.2, 1.2],\n",
       "        [5.7, 2.9, 4.2, 1.3, 6.2, 2.9]],\n",
       "\n",
       "       [[4.3, 1.3, 5.1, 2.5, 3. , 1.1],\n",
       "        [5.7, 2.8, 4.1, 1.3, 6.3, 3.3],\n",
       "        [6. , 2.5, 5.8, 2.7, 5.1, 1.9],\n",
       "        [7.1, 3. , 5.9, 2.1, 6.3, 2.9],\n",
       "        [5.6, 1.8, 6.5, 3. , 5.8, 2.2]],\n",
       "\n",
       "       [[7.6, 3. , 6.6, 2.1, 4.9, 2.5],\n",
       "        [4.5, 1.7, 7.3, 2.9, 6.3, 1.8],\n",
       "        [6.7, 2.5, 5.8, 1.8, 7.2, 3.6],\n",
       "        [6.1, 2.5, 6.5, 3.2, 5.1, 2. ],\n",
       "        [6.4, 2.7, 5.3, 1.9, 6.8, 3. ]],\n",
       "\n",
       "       [[5.5, 2.1, 5.7, 2.5, 5. , 2. ],\n",
       "        [5.8, 2.8, 5.1, 2.4, 6.4, 3.2],\n",
       "        [5.3, 2.3, 6.5, 3. , 5.5, 1.8],\n",
       "        [7.7, 3.8, 6.7, 2.2, 7.7, 2.6],\n",
       "        [6.9, 2.3, 6. , 2.2, 5. , 1.5]],\n",
       "\n",
       "       [[6.9, 3.2, 5.7, 2.3, 5.6, 2.8],\n",
       "        [4.9, 2. , 7.7, 2.8, 6.7, 2. ],\n",
       "        [6.3, 2.7, 4.9, 1.8, 6.7, 3.3],\n",
       "        [5.7, 2.1, 7.2, 3.2, 6. , 1.8],\n",
       "        [6.2, 2.8, 4.8, 1.8, 6.1, 3. ]],\n",
       "\n",
       "       [[4.9, 1.8, 6.4, 2.8, 5.6, 2.1],\n",
       "        [7.2, 3. , 5.8, 1.6, 7.4, 2.8],\n",
       "        [6.1, 1.9, 7.9, 3.8, 6.4, 2. ],\n",
       "        [6.4, 2.8, 5.6, 2.2, 6.3, 2.8],\n",
       "        [5.1, 1.5, 6.1, 2.6, 5.6, 1.4]],\n",
       "\n",
       "       [[7.7, 3. , 6.1, 2.3, 6.3, 3.4],\n",
       "        [5.6, 2.4, 6.4, 3.1, 5.5, 1.8],\n",
       "        [6. , 3. , 4.8, 1.8, 6.9, 3.1],\n",
       "        [5.4, 2.1, 6.7, 3.1, 5.6, 2.4],\n",
       "        [6.9, 3.1, 5.1, 2.3, 5.8, 2.7]],\n",
       "\n",
       "       [[5.1, 1.9, 6.8, 3.2, 5.9, 2.3],\n",
       "        [6.7, 3.3, 5.7, 2.5, 6.7, 3. ],\n",
       "        [5.2, 2.3, 6.3, 2.5, 5. , 1.9],\n",
       "        [6.5, 3. , 5.2, 2. , 6.2, 3.4],\n",
       "        [5.4, 2.3, 5.9, 3. , 5.1, 1.8]]])"
      ]
     },
     "execution_count": 73,
     "metadata": {},
     "output_type": "execute_result"
    }
   ],
   "source": [
    "arr"
   ]
  },
  {
   "cell_type": "code",
   "execution_count": 74,
   "id": "6c78096b",
   "metadata": {},
   "outputs": [
    {
     "data": {
      "text/plain": [
       "dtype('float64')"
      ]
     },
     "execution_count": 74,
     "metadata": {},
     "output_type": "execute_result"
    }
   ],
   "source": [
    "arr.dtype"
   ]
  },
  {
   "cell_type": "code",
   "execution_count": 80,
   "id": "17d6204e",
   "metadata": {},
   "outputs": [
    {
     "data": {
      "text/plain": [
       "array([[[5, 3, 1, 0, 4, 3],\n",
       "        [1, 0, 4, 3, 1, 0],\n",
       "        [4, 3, 1, 0, 5, 3],\n",
       "        [1, 0, 5, 3, 1, 0],\n",
       "        [4, 3, 1, 0, 5, 3]],\n",
       "\n",
       "       [[1, 0, 4, 2, 1, 0],\n",
       "        [4, 3, 1, 0, 5, 3],\n",
       "        [1, 0, 4, 3, 1, 0],\n",
       "        [4, 3, 1, 0, 4, 3],\n",
       "        [1, 0, 5, 4, 1, 0]],\n",
       "\n",
       "       [[5, 4, 1, 0, 5, 3],\n",
       "        [1, 0, 5, 3, 1, 0],\n",
       "        [5, 3, 1, 0, 5, 3],\n",
       "        [1, 0, 5, 3, 1, 0],\n",
       "        [5, 3, 1, 0, 4, 3]],\n",
       "\n",
       "       [[1, 0, 5, 3, 1, 0],\n",
       "        [4, 3, 1, 0, 5, 3],\n",
       "        [1, 0, 5, 3, 1, 0],\n",
       "        [5, 3, 1, 0, 5, 3],\n",
       "        [1, 0, 4, 3, 1, 0]],\n",
       "\n",
       "       [[4, 3, 1, 0, 5, 3],\n",
       "        [1, 0, 5, 4, 1, 0],\n",
       "        [5, 4, 1, 0, 4, 3],\n",
       "        [1, 0, 5, 3, 1, 0],\n",
       "        [5, 3, 1, 0, 4, 3]],\n",
       "\n",
       "       [[1, 0, 4, 3, 1, 0],\n",
       "        [5, 3, 1, 0, 5, 3],\n",
       "        [1, 0, 4, 2, 1, 0],\n",
       "        [4, 3, 1, 0, 5, 3],\n",
       "        [1, 0, 5, 3, 1, 0]],\n",
       "\n",
       "       [[4, 3, 1, 0, 5, 3],\n",
       "        [1, 0, 4, 3, 1, 0],\n",
       "        [5, 3, 1, 0, 5, 3],\n",
       "        [1, 0, 7, 3, 4, 1],\n",
       "        [6, 3, 4, 1, 6, 3]],\n",
       "\n",
       "       [[4, 1, 5, 2, 4, 1],\n",
       "        [6, 2, 4, 1, 5, 2],\n",
       "        [4, 1, 6, 3, 4, 1],\n",
       "        [4, 2, 3, 1, 6, 2],\n",
       "        [4, 1, 5, 2, 3, 1]],\n",
       "\n",
       "       [[5, 2, 3, 1, 5, 3],\n",
       "        [4, 1, 6, 2, 4, 1],\n",
       "        [6, 2, 4, 1, 5, 2],\n",
       "        [3, 1, 6, 3, 4, 1],\n",
       "        [5, 3, 4, 1, 5, 2]],\n",
       "\n",
       "       [[4, 1, 6, 2, 4, 1],\n",
       "        [5, 2, 3, 1, 5, 3],\n",
       "        [4, 1, 6, 2, 4, 1],\n",
       "        [6, 2, 4, 1, 6, 2],\n",
       "        [4, 1, 6, 2, 4, 1]],\n",
       "\n",
       "       [[6, 3, 4, 1, 6, 2],\n",
       "        [4, 1, 6, 3, 5, 1],\n",
       "        [6, 2, 4, 1, 5, 2],\n",
       "        [3, 1, 5, 2, 3, 1],\n",
       "        [5, 2, 3, 1, 5, 2]],\n",
       "\n",
       "       [[3, 1, 6, 2, 5, 1],\n",
       "        [5, 3, 4, 1, 6, 3],\n",
       "        [4, 1, 6, 3, 4, 1],\n",
       "        [6, 2, 4, 1, 5, 3],\n",
       "        [4, 1, 5, 2, 4, 1]],\n",
       "\n",
       "       [[5, 2, 4, 1, 6, 3],\n",
       "        [4, 1, 5, 2, 4, 1],\n",
       "        [5, 2, 3, 1, 5, 2],\n",
       "        [4, 1, 5, 3, 4, 1],\n",
       "        [5, 2, 4, 1, 6, 2]],\n",
       "\n",
       "       [[4, 1, 5, 2, 3, 1],\n",
       "        [5, 2, 4, 1, 6, 3],\n",
       "        [6, 2, 5, 2, 5, 1],\n",
       "        [7, 3, 5, 2, 6, 2],\n",
       "        [5, 1, 6, 3, 5, 2]],\n",
       "\n",
       "       [[7, 3, 6, 2, 4, 2],\n",
       "        [4, 1, 7, 2, 6, 1],\n",
       "        [6, 2, 5, 1, 7, 3],\n",
       "        [6, 2, 6, 3, 5, 2],\n",
       "        [6, 2, 5, 1, 6, 3]],\n",
       "\n",
       "       [[5, 2, 5, 2, 5, 2],\n",
       "        [5, 2, 5, 2, 6, 3],\n",
       "        [5, 2, 6, 3, 5, 1],\n",
       "        [7, 3, 6, 2, 7, 2],\n",
       "        [6, 2, 6, 2, 5, 1]],\n",
       "\n",
       "       [[6, 3, 5, 2, 5, 2],\n",
       "        [4, 2, 7, 2, 6, 2],\n",
       "        [6, 2, 4, 1, 6, 3],\n",
       "        [5, 2, 7, 3, 6, 1],\n",
       "        [6, 2, 4, 1, 6, 3]],\n",
       "\n",
       "       [[4, 1, 6, 2, 5, 2],\n",
       "        [7, 3, 5, 1, 7, 2],\n",
       "        [6, 1, 7, 3, 6, 2],\n",
       "        [6, 2, 5, 2, 6, 2],\n",
       "        [5, 1, 6, 2, 5, 1]],\n",
       "\n",
       "       [[7, 3, 6, 2, 6, 3],\n",
       "        [5, 2, 6, 3, 5, 1],\n",
       "        [6, 3, 4, 1, 6, 3],\n",
       "        [5, 2, 6, 3, 5, 2],\n",
       "        [6, 3, 5, 2, 5, 2]],\n",
       "\n",
       "       [[5, 1, 6, 3, 5, 2],\n",
       "        [6, 3, 5, 2, 6, 3],\n",
       "        [5, 2, 6, 2, 5, 1],\n",
       "        [6, 3, 5, 2, 6, 3],\n",
       "        [5, 2, 5, 3, 5, 1]]])"
      ]
     },
     "execution_count": 80,
     "metadata": {},
     "output_type": "execute_result"
    }
   ],
   "source": [
    "arr.astype(\"int32\", casting=\"unsafe\")"
   ]
  },
  {
   "cell_type": "code",
   "execution_count": null,
   "id": "347d3efa",
   "metadata": {},
   "outputs": [],
   "source": []
  }
 ],
 "metadata": {
  "kernelspec": {
   "display_name": "Python 3",
   "language": "python",
   "name": "python3"
  },
  "language_info": {
   "codemirror_mode": {
    "name": "ipython",
    "version": 3
   },
   "file_extension": ".py",
   "mimetype": "text/x-python",
   "name": "python",
   "nbconvert_exporter": "python",
   "pygments_lexer": "ipython3",
   "version": "3.8.8"
  }
 },
 "nbformat": 4,
 "nbformat_minor": 5
}
