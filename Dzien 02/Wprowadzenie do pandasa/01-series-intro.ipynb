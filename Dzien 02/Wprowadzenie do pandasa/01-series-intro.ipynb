{
 "cells": [
  {
   "cell_type": "code",
   "execution_count": 1,
   "id": "decfff4e",
   "metadata": {},
   "outputs": [],
   "source": [
    "import pandas as pd"
   ]
  },
  {
   "cell_type": "code",
   "execution_count": 2,
   "id": "e58e402f",
   "metadata": {},
   "outputs": [
    {
     "data": {
      "text/plain": [
       "'1.2.4'"
      ]
     },
     "execution_count": 2,
     "metadata": {},
     "output_type": "execute_result"
    }
   ],
   "source": [
    "pd.__version__"
   ]
  },
  {
   "cell_type": "code",
   "execution_count": 9,
   "id": "c3b22408",
   "metadata": {},
   "outputs": [
    {
     "data": {
      "text/plain": [
       "GD       Gdańsk\n",
       "PO       Poznań\n",
       "WI     Warszawa\n",
       "EL         Łódź\n",
       "SO    Sosnowiec\n",
       "DW      Wrocław\n",
       "KR       Kraków\n",
       "BI    Białystok\n",
       "dtype: object"
      ]
     },
     "execution_count": 9,
     "metadata": {},
     "output_type": "execute_result"
    }
   ],
   "source": [
    "cities = [\"Gdańsk\", \"Poznań\", \"Warszawa\", \"Łódź\", \"Sosnowiec\", \"Wrocław\", \"Kraków\", \"Białystok\"]\n",
    "plates = [\"GD\", \"PO\", \"WI\", \"EL\", \"SO\", \"DW\", \"KR\", \"BI\"]\n",
    "series_cities = pd.Series(data=cities, index=plates)\n",
    "series_cities"
   ]
  },
  {
   "cell_type": "code",
   "execution_count": 10,
   "id": "7931c2c4",
   "metadata": {},
   "outputs": [
    {
     "data": {
      "text/plain": [
       "Index(['GD', 'PO', 'WI', 'EL', 'SO', 'DW', 'KR', 'BI'], dtype='object')"
      ]
     },
     "execution_count": 10,
     "metadata": {},
     "output_type": "execute_result"
    }
   ],
   "source": [
    "series_cities.index"
   ]
  },
  {
   "cell_type": "code",
   "execution_count": 11,
   "id": "ce5192ac",
   "metadata": {},
   "outputs": [
    {
     "data": {
      "text/plain": [
       "['GD', 'PO', 'WI', 'EL', 'SO', 'DW', 'KR', 'BI']"
      ]
     },
     "execution_count": 11,
     "metadata": {},
     "output_type": "execute_result"
    }
   ],
   "source": [
    "list(series_cities.index)"
   ]
  },
  {
   "cell_type": "code",
   "execution_count": 13,
   "id": "139301f0",
   "metadata": {},
   "outputs": [
    {
     "data": {
      "text/plain": [
       "Poland       37123456\n",
       "UK           62876444\n",
       "USA         320123666\n",
       "Germany      80123888\n",
       "France       55123999\n",
       "India      1520456890\n",
       "dtype: int64"
      ]
     },
     "execution_count": 13,
     "metadata": {},
     "output_type": "execute_result"
    }
   ],
   "source": [
    "countries = [\"Poland\", \"UK\", \"USA\", \"Germany\", \"France\", \"India\"]\n",
    "population = [37_123_456, 62_876_444, 320_123_666, 80_123_888, 55_123_999, 1_520_456_890 ]\n",
    "countries_series = pd.Series(index=countries, data=population)\n",
    "countries_series"
   ]
  },
  {
   "cell_type": "code",
   "execution_count": 15,
   "id": "bfc81671",
   "metadata": {},
   "outputs": [
    {
     "data": {
      "text/plain": [
       "USA       320123666\n",
       "India    1520456890\n",
       "dtype: int64"
      ]
     },
     "execution_count": 15,
     "metadata": {},
     "output_type": "execute_result"
    }
   ],
   "source": [
    "countries_series[countries_series > 100_000_000]"
   ]
  },
  {
   "cell_type": "code",
   "execution_count": 19,
   "id": "f4fcc0cc",
   "metadata": {},
   "outputs": [
    {
     "data": {
      "text/plain": [
       "Poland      37123456\n",
       "India     1520456890\n",
       "dtype: int64"
      ]
     },
     "execution_count": 19,
     "metadata": {},
     "output_type": "execute_result"
    }
   ],
   "source": [
    "countries_series[(countries_series<50_000_000)|(countries_series>1E9)]"
   ]
  },
  {
   "cell_type": "code",
   "execution_count": 20,
   "id": "84941208",
   "metadata": {},
   "outputs": [
    {
     "data": {
      "text/plain": [
       "Poland       37123456\n",
       "UK           62876444\n",
       "USA         320123666\n",
       "Germany      80123888\n",
       "France       55123999\n",
       "India      1520456890\n",
       "dtype: int64"
      ]
     },
     "execution_count": 20,
     "metadata": {},
     "output_type": "execute_result"
    }
   ],
   "source": [
    "countries_series"
   ]
  },
  {
   "cell_type": "code",
   "execution_count": 21,
   "id": "91fb1731",
   "metadata": {},
   "outputs": [
    {
     "data": {
      "text/plain": [
       "'M'"
      ]
     },
     "execution_count": 21,
     "metadata": {},
     "output_type": "execute_result"
    }
   ],
   "source": [
    "def convert_pop(x):\n",
    "    if x<50E6: return \"L\"\n",
    "    if x<100E6: return \"M\"\n",
    "    return \"H\"\n",
    "convert_pop(76E6)\n",
    "#countries_series.apply()"
   ]
  },
  {
   "cell_type": "code",
   "execution_count": 22,
   "id": "1198ecee",
   "metadata": {},
   "outputs": [
    {
     "data": {
      "text/plain": [
       "Poland     L\n",
       "UK         M\n",
       "USA        H\n",
       "Germany    M\n",
       "France     M\n",
       "India      H\n",
       "dtype: object"
      ]
     },
     "execution_count": 22,
     "metadata": {},
     "output_type": "execute_result"
    }
   ],
   "source": [
    "countries_series.apply(convert_pop)"
   ]
  },
  {
   "cell_type": "code",
   "execution_count": 26,
   "id": "a84a7249",
   "metadata": {},
   "outputs": [
    {
     "data": {
      "text/plain": [
       "Poland       37.12 mln\n",
       "UK           62.88 mln\n",
       "USA         320.12 mln\n",
       "Germany      80.12 mln\n",
       "France       55.12 mln\n",
       "India      1520.46 mln\n",
       "dtype: object"
      ]
     },
     "execution_count": 26,
     "metadata": {},
     "output_type": "execute_result"
    }
   ],
   "source": [
    "countries_series.apply(lambda x: f\"{x/1_000_000:.2f} mln\" )"
   ]
  },
  {
   "cell_type": "code",
   "execution_count": 28,
   "id": "b16be32e",
   "metadata": {},
   "outputs": [
    {
     "data": {
      "text/plain": [
       "0    PL\n",
       "1    UK\n",
       "2    DE\n",
       "3    UA\n",
       "dtype: object"
      ]
     },
     "execution_count": 28,
     "metadata": {},
     "output_type": "execute_result"
    }
   ],
   "source": [
    "countries_series = pd.Series([\"PL\", \"UK\", \"DE\", \"UA\"])\n",
    "countries_series"
   ]
  },
  {
   "cell_type": "code",
   "execution_count": 31,
   "id": "1ed538c5",
   "metadata": {},
   "outputs": [
    {
     "data": {
      "text/plain": [
       "0          Polska\n",
       "1    Wlk Brytania\n",
       "2          Niemcy\n",
       "3         Ukraina\n",
       "dtype: object"
      ]
     },
     "execution_count": 31,
     "metadata": {},
     "output_type": "execute_result"
    }
   ],
   "source": [
    "countries_series.map({\n",
    "    \"PL\": \"Polska\", \"UK\":\"Wlk Brytania\", \n",
    "    \"DE\":\"Niemcy\", \n",
    "    \"UA\":\"Ukraina\"\n",
    "})"
   ]
  },
  {
   "cell_type": "code",
   "execution_count": 32,
   "id": "9f658113",
   "metadata": {},
   "outputs": [
    {
     "data": {
      "text/plain": [
       "Poland       37123456\n",
       "UK           62876444\n",
       "USA         320123666\n",
       "Germany      80123888\n",
       "France       55123999\n",
       "India      1520456890\n",
       "dtype: int64"
      ]
     },
     "execution_count": 32,
     "metadata": {},
     "output_type": "execute_result"
    }
   ],
   "source": [
    "countries = [\"Poland\", \"UK\", \"USA\", \"Germany\", \"France\", \"India\"]\n",
    "population = [37_123_456, 62_876_444, 320_123_666, 80_123_888, 55_123_999, 1_520_456_890 ]\n",
    "countries_series = pd.Series(index=countries, data=population)\n",
    "countries_series"
   ]
  },
  {
   "cell_type": "code",
   "execution_count": 37,
   "id": "1ccde87d",
   "metadata": {},
   "outputs": [],
   "source": [
    "countries_series.sort_values(ascending=False, inplace=True)"
   ]
  },
  {
   "cell_type": "code",
   "execution_count": 38,
   "id": "6e3169b7",
   "metadata": {},
   "outputs": [
    {
     "data": {
      "text/plain": [
       "India      1520456890\n",
       "USA         320123666\n",
       "Germany      80123888\n",
       "UK           62876444\n",
       "France       55123999\n",
       "Poland       37123456\n",
       "dtype: int64"
      ]
     },
     "execution_count": 38,
     "metadata": {},
     "output_type": "execute_result"
    }
   ],
   "source": [
    "countries_series"
   ]
  },
  {
   "cell_type": "code",
   "execution_count": 39,
   "id": "ad87333d",
   "metadata": {},
   "outputs": [
    {
     "data": {
      "text/plain": [
       "France       55123999\n",
       "Germany      80123888\n",
       "India      1520456890\n",
       "Poland       37123456\n",
       "UK           62876444\n",
       "USA         320123666\n",
       "dtype: int64"
      ]
     },
     "execution_count": 39,
     "metadata": {},
     "output_type": "execute_result"
    }
   ],
   "source": [
    "countries_series.sort_index()"
   ]
  },
  {
   "cell_type": "code",
   "execution_count": 40,
   "id": "f44b660e",
   "metadata": {},
   "outputs": [
    {
     "data": {
      "text/plain": [
       "(345971390.5, 71500166.0, 584958321.3365185, 37123456, 1520456890)"
      ]
     },
     "execution_count": 40,
     "metadata": {},
     "output_type": "execute_result"
    }
   ],
   "source": [
    "countries_series.mean(), countries_series.median(), countries_series.std(), \\\n",
    "countries_series.min(), countries_series.max()"
   ]
  },
  {
   "cell_type": "code",
   "execution_count": 42,
   "id": "2ab3d3a9",
   "metadata": {},
   "outputs": [
    {
     "data": {
      "text/plain": [
       "India    1520456890\n",
       "USA       320123666\n",
       "dtype: int64"
      ]
     },
     "execution_count": 42,
     "metadata": {},
     "output_type": "execute_result"
    }
   ],
   "source": [
    "countries_series.head(2)"
   ]
  },
  {
   "cell_type": "code",
   "execution_count": 43,
   "id": "cf407fe1",
   "metadata": {},
   "outputs": [
    {
     "data": {
      "text/plain": [
       "UK        62876444\n",
       "France    55123999\n",
       "Poland    37123456\n",
       "dtype: int64"
      ]
     },
     "execution_count": 43,
     "metadata": {},
     "output_type": "execute_result"
    }
   ],
   "source": [
    "countries_series.tail(3)"
   ]
  },
  {
   "cell_type": "code",
   "execution_count": 44,
   "id": "3a4dfba0",
   "metadata": {},
   "outputs": [
    {
     "data": {
      "text/plain": [
       "India      1520456890\n",
       "USA         320123666\n",
       "Germany      80123888\n",
       "UK           62876444\n",
       "France       55123999\n",
       "Poland       37123456\n",
       "dtype: int64"
      ]
     },
     "execution_count": 44,
     "metadata": {},
     "output_type": "execute_result"
    }
   ],
   "source": [
    "countries_series"
   ]
  },
  {
   "cell_type": "code",
   "execution_count": 49,
   "id": "9b9f1dd6",
   "metadata": {},
   "outputs": [
    {
     "data": {
      "text/plain": [
       "(320123666, 320123666, 320123666, 320123666, 320123666)"
      ]
     },
     "execution_count": 49,
     "metadata": {},
     "output_type": "execute_result"
    }
   ],
   "source": [
    "countries_series[\"USA\"], countries_series.USA, countries_series.loc[\"USA\"], countries_series[1], countries_series.iloc[1]"
   ]
  },
  {
   "cell_type": "code",
   "execution_count": 50,
   "id": "0e3adb4d",
   "metadata": {},
   "outputs": [
    {
     "name": "stdout",
     "output_type": "stream",
     "text": [
      "320123666\n"
     ]
    }
   ],
   "source": [
    "if \"USA\" in countries_series.index: print(countries_series[\"USA\"])"
   ]
  },
  {
   "cell_type": "code",
   "execution_count": 52,
   "id": "db6f4c06",
   "metadata": {},
   "outputs": [
    {
     "data": {
      "text/plain": [
       "USA        320123666\n",
       "Germany     80123888\n",
       "UK          62876444\n",
       "dtype: int64"
      ]
     },
     "execution_count": 52,
     "metadata": {},
     "output_type": "execute_result"
    }
   ],
   "source": [
    "countries_series.loc[\"USA\":\"UK\"]"
   ]
  },
  {
   "cell_type": "code",
   "execution_count": 53,
   "id": "3ab5e57f",
   "metadata": {},
   "outputs": [
    {
     "data": {
      "text/plain": [
       "USA        320123666\n",
       "Germany     80123888\n",
       "UK          62876444\n",
       "dtype: int64"
      ]
     },
     "execution_count": 53,
     "metadata": {},
     "output_type": "execute_result"
    }
   ],
   "source": [
    "countries_series.iloc[1:4]"
   ]
  },
  {
   "cell_type": "code",
   "execution_count": 56,
   "id": "72fde8f5",
   "metadata": {},
   "outputs": [
    {
     "data": {
      "text/plain": [
       "USA       320123666\n",
       "UK         62876444\n",
       "Poland     37123456\n",
       "dtype: int64"
      ]
     },
     "execution_count": 56,
     "metadata": {},
     "output_type": "execute_result"
    }
   ],
   "source": [
    "countries_series.loc[\"USA\"::2]"
   ]
  },
  {
   "cell_type": "code",
   "execution_count": 57,
   "id": "7f3dce61",
   "metadata": {},
   "outputs": [
    {
     "data": {
      "text/plain": [
       "India     1520456890\n",
       "Poland      37123456\n",
       "dtype: int64"
      ]
     },
     "execution_count": 57,
     "metadata": {},
     "output_type": "execute_result"
    }
   ],
   "source": [
    "countries_series.loc[ [\"India\", \"Poland\"]]"
   ]
  },
  {
   "cell_type": "code",
   "execution_count": 58,
   "id": "1e219efc",
   "metadata": {},
   "outputs": [
    {
     "data": {
      "text/plain": [
       "India     1520456890\n",
       "Poland      37123456\n",
       "dtype: int64"
      ]
     },
     "execution_count": 58,
     "metadata": {},
     "output_type": "execute_result"
    }
   ],
   "source": [
    "countries_series.iloc[ [0,-1] ]"
   ]
  },
  {
   "cell_type": "code",
   "execution_count": 59,
   "id": "8a460676",
   "metadata": {},
   "outputs": [
    {
     "data": {
      "text/plain": [
       "Poland      37123456\n",
       "UK          62876444\n",
       "USA        320123666\n",
       "Poland      80123888\n",
       "France      55123999\n",
       "India     1520456890\n",
       "dtype: int64"
      ]
     },
     "execution_count": 59,
     "metadata": {},
     "output_type": "execute_result"
    }
   ],
   "source": [
    "countries = [\"Poland\", \"UK\", \"USA\", \"Poland\", \"France\", \"India\"]\n",
    "population = [37_123_456, 62_876_444, 320_123_666, 80_123_888, 55_123_999, 1_520_456_890 ]\n",
    "countries_series = pd.Series(index=countries, data=population)\n",
    "countries_series"
   ]
  },
  {
   "cell_type": "code",
   "execution_count": 60,
   "id": "7f21a53c",
   "metadata": {},
   "outputs": [
    {
     "data": {
      "text/plain": [
       "Poland    37123456\n",
       "Poland    80123888\n",
       "dtype: int64"
      ]
     },
     "execution_count": 60,
     "metadata": {},
     "output_type": "execute_result"
    }
   ],
   "source": [
    "countries_series[\"Poland\"]"
   ]
  },
  {
   "cell_type": "code",
   "execution_count": 61,
   "id": "691f69bc",
   "metadata": {},
   "outputs": [
    {
     "ename": "KeyError",
     "evalue": "\"Cannot get left slice bound for non-unique label: 'Poland'\"",
     "output_type": "error",
     "traceback": [
      "\u001b[1;31m---------------------------------------------------------------------------\u001b[0m",
      "\u001b[1;31mKeyError\u001b[0m                                  Traceback (most recent call last)",
      "\u001b[1;32m<ipython-input-61-970d0503ac1e>\u001b[0m in \u001b[0;36m<module>\u001b[1;34m\u001b[0m\n\u001b[1;32m----> 1\u001b[1;33m \u001b[0mcountries_series\u001b[0m\u001b[1;33m.\u001b[0m\u001b[0mloc\u001b[0m\u001b[1;33m[\u001b[0m\u001b[1;34m\"Poland\"\u001b[0m\u001b[1;33m:\u001b[0m\u001b[1;34m\"Poland\"\u001b[0m\u001b[1;33m]\u001b[0m\u001b[1;33m\u001b[0m\u001b[1;33m\u001b[0m\u001b[0m\n\u001b[0m",
      "\u001b[1;32m~\\anaconda3\\lib\\site-packages\\pandas\\core\\indexing.py\u001b[0m in \u001b[0;36m__getitem__\u001b[1;34m(self, key)\u001b[0m\n\u001b[0;32m    893\u001b[0m \u001b[1;33m\u001b[0m\u001b[0m\n\u001b[0;32m    894\u001b[0m             \u001b[0mmaybe_callable\u001b[0m \u001b[1;33m=\u001b[0m \u001b[0mcom\u001b[0m\u001b[1;33m.\u001b[0m\u001b[0mapply_if_callable\u001b[0m\u001b[1;33m(\u001b[0m\u001b[0mkey\u001b[0m\u001b[1;33m,\u001b[0m \u001b[0mself\u001b[0m\u001b[1;33m.\u001b[0m\u001b[0mobj\u001b[0m\u001b[1;33m)\u001b[0m\u001b[1;33m\u001b[0m\u001b[1;33m\u001b[0m\u001b[0m\n\u001b[1;32m--> 895\u001b[1;33m             \u001b[1;32mreturn\u001b[0m \u001b[0mself\u001b[0m\u001b[1;33m.\u001b[0m\u001b[0m_getitem_axis\u001b[0m\u001b[1;33m(\u001b[0m\u001b[0mmaybe_callable\u001b[0m\u001b[1;33m,\u001b[0m \u001b[0maxis\u001b[0m\u001b[1;33m=\u001b[0m\u001b[0maxis\u001b[0m\u001b[1;33m)\u001b[0m\u001b[1;33m\u001b[0m\u001b[1;33m\u001b[0m\u001b[0m\n\u001b[0m\u001b[0;32m    896\u001b[0m \u001b[1;33m\u001b[0m\u001b[0m\n\u001b[0;32m    897\u001b[0m     \u001b[1;32mdef\u001b[0m \u001b[0m_is_scalar_access\u001b[0m\u001b[1;33m(\u001b[0m\u001b[0mself\u001b[0m\u001b[1;33m,\u001b[0m \u001b[0mkey\u001b[0m\u001b[1;33m:\u001b[0m \u001b[0mTuple\u001b[0m\u001b[1;33m)\u001b[0m\u001b[1;33m:\u001b[0m\u001b[1;33m\u001b[0m\u001b[1;33m\u001b[0m\u001b[0m\n",
      "\u001b[1;32m~\\anaconda3\\lib\\site-packages\\pandas\\core\\indexing.py\u001b[0m in \u001b[0;36m_getitem_axis\u001b[1;34m(self, key, axis)\u001b[0m\n\u001b[0;32m   1100\u001b[0m         \u001b[1;32mif\u001b[0m \u001b[0misinstance\u001b[0m\u001b[1;33m(\u001b[0m\u001b[0mkey\u001b[0m\u001b[1;33m,\u001b[0m \u001b[0mslice\u001b[0m\u001b[1;33m)\u001b[0m\u001b[1;33m:\u001b[0m\u001b[1;33m\u001b[0m\u001b[1;33m\u001b[0m\u001b[0m\n\u001b[0;32m   1101\u001b[0m             \u001b[0mself\u001b[0m\u001b[1;33m.\u001b[0m\u001b[0m_validate_key\u001b[0m\u001b[1;33m(\u001b[0m\u001b[0mkey\u001b[0m\u001b[1;33m,\u001b[0m \u001b[0maxis\u001b[0m\u001b[1;33m)\u001b[0m\u001b[1;33m\u001b[0m\u001b[1;33m\u001b[0m\u001b[0m\n\u001b[1;32m-> 1102\u001b[1;33m             \u001b[1;32mreturn\u001b[0m \u001b[0mself\u001b[0m\u001b[1;33m.\u001b[0m\u001b[0m_get_slice_axis\u001b[0m\u001b[1;33m(\u001b[0m\u001b[0mkey\u001b[0m\u001b[1;33m,\u001b[0m \u001b[0maxis\u001b[0m\u001b[1;33m=\u001b[0m\u001b[0maxis\u001b[0m\u001b[1;33m)\u001b[0m\u001b[1;33m\u001b[0m\u001b[1;33m\u001b[0m\u001b[0m\n\u001b[0m\u001b[0;32m   1103\u001b[0m         \u001b[1;32melif\u001b[0m \u001b[0mcom\u001b[0m\u001b[1;33m.\u001b[0m\u001b[0mis_bool_indexer\u001b[0m\u001b[1;33m(\u001b[0m\u001b[0mkey\u001b[0m\u001b[1;33m)\u001b[0m\u001b[1;33m:\u001b[0m\u001b[1;33m\u001b[0m\u001b[1;33m\u001b[0m\u001b[0m\n\u001b[0;32m   1104\u001b[0m             \u001b[1;32mreturn\u001b[0m \u001b[0mself\u001b[0m\u001b[1;33m.\u001b[0m\u001b[0m_getbool_axis\u001b[0m\u001b[1;33m(\u001b[0m\u001b[0mkey\u001b[0m\u001b[1;33m,\u001b[0m \u001b[0maxis\u001b[0m\u001b[1;33m=\u001b[0m\u001b[0maxis\u001b[0m\u001b[1;33m)\u001b[0m\u001b[1;33m\u001b[0m\u001b[1;33m\u001b[0m\u001b[0m\n",
      "\u001b[1;32m~\\anaconda3\\lib\\site-packages\\pandas\\core\\indexing.py\u001b[0m in \u001b[0;36m_get_slice_axis\u001b[1;34m(self, slice_obj, axis)\u001b[0m\n\u001b[0;32m   1134\u001b[0m \u001b[1;33m\u001b[0m\u001b[0m\n\u001b[0;32m   1135\u001b[0m         \u001b[0mlabels\u001b[0m \u001b[1;33m=\u001b[0m \u001b[0mobj\u001b[0m\u001b[1;33m.\u001b[0m\u001b[0m_get_axis\u001b[0m\u001b[1;33m(\u001b[0m\u001b[0maxis\u001b[0m\u001b[1;33m)\u001b[0m\u001b[1;33m\u001b[0m\u001b[1;33m\u001b[0m\u001b[0m\n\u001b[1;32m-> 1136\u001b[1;33m         indexer = labels.slice_indexer(\n\u001b[0m\u001b[0;32m   1137\u001b[0m             \u001b[0mslice_obj\u001b[0m\u001b[1;33m.\u001b[0m\u001b[0mstart\u001b[0m\u001b[1;33m,\u001b[0m \u001b[0mslice_obj\u001b[0m\u001b[1;33m.\u001b[0m\u001b[0mstop\u001b[0m\u001b[1;33m,\u001b[0m \u001b[0mslice_obj\u001b[0m\u001b[1;33m.\u001b[0m\u001b[0mstep\u001b[0m\u001b[1;33m,\u001b[0m \u001b[0mkind\u001b[0m\u001b[1;33m=\u001b[0m\u001b[1;34m\"loc\"\u001b[0m\u001b[1;33m\u001b[0m\u001b[1;33m\u001b[0m\u001b[0m\n\u001b[0;32m   1138\u001b[0m         )\n",
      "\u001b[1;32m~\\anaconda3\\lib\\site-packages\\pandas\\core\\indexes\\base.py\u001b[0m in \u001b[0;36mslice_indexer\u001b[1;34m(self, start, end, step, kind)\u001b[0m\n\u001b[0;32m   5275\u001b[0m         \u001b[0mslice\u001b[0m\u001b[1;33m(\u001b[0m\u001b[1;36m1\u001b[0m\u001b[1;33m,\u001b[0m \u001b[1;36m3\u001b[0m\u001b[1;33m,\u001b[0m \u001b[1;32mNone\u001b[0m\u001b[1;33m)\u001b[0m\u001b[1;33m\u001b[0m\u001b[1;33m\u001b[0m\u001b[0m\n\u001b[0;32m   5276\u001b[0m         \"\"\"\n\u001b[1;32m-> 5277\u001b[1;33m         \u001b[0mstart_slice\u001b[0m\u001b[1;33m,\u001b[0m \u001b[0mend_slice\u001b[0m \u001b[1;33m=\u001b[0m \u001b[0mself\u001b[0m\u001b[1;33m.\u001b[0m\u001b[0mslice_locs\u001b[0m\u001b[1;33m(\u001b[0m\u001b[0mstart\u001b[0m\u001b[1;33m,\u001b[0m \u001b[0mend\u001b[0m\u001b[1;33m,\u001b[0m \u001b[0mstep\u001b[0m\u001b[1;33m=\u001b[0m\u001b[0mstep\u001b[0m\u001b[1;33m,\u001b[0m \u001b[0mkind\u001b[0m\u001b[1;33m=\u001b[0m\u001b[0mkind\u001b[0m\u001b[1;33m)\u001b[0m\u001b[1;33m\u001b[0m\u001b[1;33m\u001b[0m\u001b[0m\n\u001b[0m\u001b[0;32m   5278\u001b[0m \u001b[1;33m\u001b[0m\u001b[0m\n\u001b[0;32m   5279\u001b[0m         \u001b[1;31m# return a slice\u001b[0m\u001b[1;33m\u001b[0m\u001b[1;33m\u001b[0m\u001b[1;33m\u001b[0m\u001b[0m\n",
      "\u001b[1;32m~\\anaconda3\\lib\\site-packages\\pandas\\core\\indexes\\base.py\u001b[0m in \u001b[0;36mslice_locs\u001b[1;34m(self, start, end, step, kind)\u001b[0m\n\u001b[0;32m   5474\u001b[0m         \u001b[0mstart_slice\u001b[0m \u001b[1;33m=\u001b[0m \u001b[1;32mNone\u001b[0m\u001b[1;33m\u001b[0m\u001b[1;33m\u001b[0m\u001b[0m\n\u001b[0;32m   5475\u001b[0m         \u001b[1;32mif\u001b[0m \u001b[0mstart\u001b[0m \u001b[1;32mis\u001b[0m \u001b[1;32mnot\u001b[0m \u001b[1;32mNone\u001b[0m\u001b[1;33m:\u001b[0m\u001b[1;33m\u001b[0m\u001b[1;33m\u001b[0m\u001b[0m\n\u001b[1;32m-> 5476\u001b[1;33m             \u001b[0mstart_slice\u001b[0m \u001b[1;33m=\u001b[0m \u001b[0mself\u001b[0m\u001b[1;33m.\u001b[0m\u001b[0mget_slice_bound\u001b[0m\u001b[1;33m(\u001b[0m\u001b[0mstart\u001b[0m\u001b[1;33m,\u001b[0m \u001b[1;34m\"left\"\u001b[0m\u001b[1;33m,\u001b[0m \u001b[0mkind\u001b[0m\u001b[1;33m)\u001b[0m\u001b[1;33m\u001b[0m\u001b[1;33m\u001b[0m\u001b[0m\n\u001b[0m\u001b[0;32m   5477\u001b[0m         \u001b[1;32mif\u001b[0m \u001b[0mstart_slice\u001b[0m \u001b[1;32mis\u001b[0m \u001b[1;32mNone\u001b[0m\u001b[1;33m:\u001b[0m\u001b[1;33m\u001b[0m\u001b[1;33m\u001b[0m\u001b[0m\n\u001b[0;32m   5478\u001b[0m             \u001b[0mstart_slice\u001b[0m \u001b[1;33m=\u001b[0m \u001b[1;36m0\u001b[0m\u001b[1;33m\u001b[0m\u001b[1;33m\u001b[0m\u001b[0m\n",
      "\u001b[1;32m~\\anaconda3\\lib\\site-packages\\pandas\\core\\indexes\\base.py\u001b[0m in \u001b[0;36mget_slice_bound\u001b[1;34m(self, label, side, kind)\u001b[0m\n\u001b[0;32m   5406\u001b[0m                 )\n\u001b[0;32m   5407\u001b[0m             \u001b[1;32mif\u001b[0m \u001b[0misinstance\u001b[0m\u001b[1;33m(\u001b[0m\u001b[0mslc\u001b[0m\u001b[1;33m,\u001b[0m \u001b[0mnp\u001b[0m\u001b[1;33m.\u001b[0m\u001b[0mndarray\u001b[0m\u001b[1;33m)\u001b[0m\u001b[1;33m:\u001b[0m\u001b[1;33m\u001b[0m\u001b[1;33m\u001b[0m\u001b[0m\n\u001b[1;32m-> 5408\u001b[1;33m                 raise KeyError(\n\u001b[0m\u001b[0;32m   5409\u001b[0m                     \u001b[1;34mf\"Cannot get {side} slice bound for non-unique \"\u001b[0m\u001b[1;33m\u001b[0m\u001b[1;33m\u001b[0m\u001b[0m\n\u001b[0;32m   5410\u001b[0m                     \u001b[1;34mf\"label: {repr(original_label)}\"\u001b[0m\u001b[1;33m\u001b[0m\u001b[1;33m\u001b[0m\u001b[0m\n",
      "\u001b[1;31mKeyError\u001b[0m: \"Cannot get left slice bound for non-unique label: 'Poland'\""
     ]
    }
   ],
   "source": [
    "countries_series.loc[\"Poland\":\"Poland\"]"
   ]
  },
  {
   "cell_type": "code",
   "execution_count": null,
   "id": "564d22af",
   "metadata": {},
   "outputs": [],
   "source": []
  }
 ],
 "metadata": {
  "kernelspec": {
   "display_name": "Python 3",
   "language": "python",
   "name": "python3"
  },
  "language_info": {
   "codemirror_mode": {
    "name": "ipython",
    "version": 3
   },
   "file_extension": ".py",
   "mimetype": "text/x-python",
   "name": "python",
   "nbconvert_exporter": "python",
   "pygments_lexer": "ipython3",
   "version": "3.8.8"
  }
 },
 "nbformat": 4,
 "nbformat_minor": 5
}
