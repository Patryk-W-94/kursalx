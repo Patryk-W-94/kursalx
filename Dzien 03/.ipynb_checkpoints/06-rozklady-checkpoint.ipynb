{
 "cells": [
  {
   "cell_type": "code",
   "execution_count": 1,
   "id": "fd179dff",
   "metadata": {},
   "outputs": [],
   "source": [
    "import numpy as np\n",
    "import pandas as pd\n",
    "import matplotlib.pyplot as plt"
   ]
  },
  {
   "cell_type": "code",
   "execution_count": 5,
   "id": "934a5b5a",
   "metadata": {},
   "outputs": [],
   "source": [
    "N = 1_000_000\n",
    "np.random.seed(0)"
   ]
  },
  {
   "cell_type": "code",
   "execution_count": 6,
   "id": "7128c875",
   "metadata": {},
   "outputs": [],
   "source": [
    "data = np.random.rand(N)"
   ]
  },
  {
   "cell_type": "code",
   "execution_count": 7,
   "id": "d9c831da",
   "metadata": {},
   "outputs": [
    {
     "data": {
      "image/png": "[encoded data removed]",
      "text/plain": [
       "<Figure size 432x288 with 1 Axes>"
      ]
     },
     "metadata": {
      "needs_background": "light"
     },
     "output_type": "display_data"
    }
   ],
   "source": [
    "plt.hist(data, bins=20)\n",
    "plt.show()"
   ]
  },
  {
   "cell_type": "code",
   "execution_count": 8,
   "id": "07d6e36c",
   "metadata": {},
   "outputs": [],
   "source": [
    "data = np.random.randn(N)"
   ]
  },
  {
   "cell_type": "code",
   "execution_count": 22,
   "id": "59603431",
   "metadata": {},
   "outputs": [
    {
     "data": {
      "image/png": "[encoded data removed]",
      "text/plain": [
       "<Figure size 864x432 with 1 Axes>"
      ]
     },
     "metadata": {
      "needs_background": "light"
     },
     "output_type": "display_data"
    }
   ],
   "source": [
    "plt.figure(figsize=(12,6))\n",
    "plt.hist(data, bins=50)\n",
    "plt.axvline( np.median(data), color=\"black\")  #pionowa krecha\n",
    "plt.axvline( np.median(data)+np.std(data), color=\"green\");plt.axvline( np.median(data)- np.std(data), color=\"green\")\n",
    "plt.axvline( np.median(data)+2*np.std(data), color=\"yellow\");plt.axvline( np.median(data)- 2*np.std(data), color=\"yellow\")\n",
    "plt.axvline( np.median(data)+3*np.std(data), color=\"r\");plt.axvline( np.median(data)- 3*np.std(data), color=\"r\")\n",
    "plt.show()"
   ]
  },
  {
   "cell_type": "code",
   "execution_count": 16,
   "id": "d7062818",
   "metadata": {},
   "outputs": [
    {
     "data": {
      "text/plain": [
       "(24.77777777777778, 3.0)"
      ]
     },
     "execution_count": 16,
     "metadata": {},
     "output_type": "execute_result"
    }
   ],
   "source": [
    "arr = np.array([1,1,1,2,3,5,10,100, 100])\n",
    "arr.mean(), np.median(arr)"
   ]
  },
  {
   "cell_type": "code",
   "execution_count": 23,
   "id": "df0048fa",
   "metadata": {},
   "outputs": [
    {
     "data": {
      "text/plain": [
       "(8.732095304026126e-05, -0.0007623230721712673)"
      ]
     },
     "execution_count": 23,
     "metadata": {},
     "output_type": "execute_result"
    }
   ],
   "source": [
    "np.median(data), np.mean(data)"
   ]
  },
  {
   "cell_type": "code",
   "execution_count": 24,
   "id": "142930c2",
   "metadata": {},
   "outputs": [],
   "source": [
    "_mean = np.mean(data)\n",
    "_std = np.std(data)"
   ]
  },
  {
   "cell_type": "code",
   "execution_count": 29,
   "id": "d407c364",
   "metadata": {},
   "outputs": [
    {
     "data": {
      "text/plain": [
       "68.2028"
      ]
     },
     "execution_count": 29,
     "metadata": {},
     "output_type": "execute_result"
    }
   ],
   "source": [
    "len( data[ (data>=_mean-_std) & (data<=_mean+_std)]) / N * 100"
   ]
  },
  {
   "cell_type": "code",
   "execution_count": 30,
   "id": "7129406c",
   "metadata": {},
   "outputs": [
    {
     "data": {
      "text/plain": [
       "95.4856"
      ]
     },
     "execution_count": 30,
     "metadata": {},
     "output_type": "execute_result"
    }
   ],
   "source": [
    "len( data[ (data>=_mean-2*_std) & (data<=_mean+2*_std)]) / N * 100"
   ]
  },
  {
   "cell_type": "code",
   "execution_count": 31,
   "id": "de0f880d",
   "metadata": {},
   "outputs": [
    {
     "data": {
      "text/plain": [
       "99.7308"
      ]
     },
     "execution_count": 31,
     "metadata": {},
     "output_type": "execute_result"
    }
   ],
   "source": [
    "len( data[ (data>=_mean-3*_std) & (data<=_mean+3*_std)]) / N * 100"
   ]
  },
  {
   "cell_type": "code",
   "execution_count": 32,
   "id": "76b0c484",
   "metadata": {},
   "outputs": [],
   "source": [
    "# test rozkladu z wykorzystaniem testu shapiro-wilka\n",
    "from scipy.stats import shapiro"
   ]
  },
  {
   "cell_type": "code",
   "execution_count": 33,
   "id": "f7abbc53",
   "metadata": {},
   "outputs": [
    {
     "name": "stderr",
     "output_type": "stream",
     "text": [
      "C:\\Users\\patry\\anaconda3\\lib\\site-packages\\scipy\\stats\\morestats.py:1681: UserWarning: p-value may not be accurate for N > 5000.\n",
      "  warnings.warn(\"p-value may not be accurate for N > 5000.\")\n"
     ]
    },
    {
     "data": {
      "text/plain": [
       "ShapiroResult(statistic=1.0003490447998047, pvalue=1.0)"
      ]
     },
     "execution_count": 33,
     "metadata": {},
     "output_type": "execute_result"
    }
   ],
   "source": [
    "shapiro(data)"
   ]
  },
  {
   "cell_type": "code",
   "execution_count": 38,
   "id": "579847bd",
   "metadata": {},
   "outputs": [
    {
     "data": {
      "text/plain": [
       "ShapiroResult(statistic=0.9995062947273254, pvalue=0.40581759810447693)"
      ]
     },
     "execution_count": 38,
     "metadata": {},
     "output_type": "execute_result"
    }
   ],
   "source": [
    "arr = np.random.randn(4000)\n",
    "shapiro(arr)"
   ]
  },
  {
   "cell_type": "code",
   "execution_count": 42,
   "id": "aa1f3780",
   "metadata": {},
   "outputs": [
    {
     "data": {
      "text/html": [
       "<div>\n",
       "<style scoped>\n",
       "    .dataframe tbody tr th:only-of-type {\n",
       "        vertical-align: middle;\n",
       "    }\n",
       "\n",
       "    .dataframe tbody tr th {\n",
       "        vertical-align: top;\n",
       "    }\n",
       "\n",
       "    .dataframe thead th {\n",
       "        text-align: right;\n",
       "    }\n",
       "</style>\n",
       "<table border=\"1\" class=\"dataframe\">\n",
       "  <thead>\n",
       "    <tr style=\"text-align: right;\">\n",
       "      <th></th>\n",
       "      <th>0</th>\n",
       "    </tr>\n",
       "  </thead>\n",
       "  <tbody>\n",
       "    <tr>\n",
       "      <th>count</th>\n",
       "      <td>1000000.000000</td>\n",
       "    </tr>\n",
       "    <tr>\n",
       "      <th>mean</th>\n",
       "      <td>-0.000762</td>\n",
       "    </tr>\n",
       "    <tr>\n",
       "      <th>std</th>\n",
       "      <td>0.999219</td>\n",
       "    </tr>\n",
       "    <tr>\n",
       "      <th>min</th>\n",
       "      <td>-4.820940</td>\n",
       "    </tr>\n",
       "    <tr>\n",
       "      <th>25%</th>\n",
       "      <td>-0.675762</td>\n",
       "    </tr>\n",
       "    <tr>\n",
       "      <th>50%</th>\n",
       "      <td>0.000087</td>\n",
       "    </tr>\n",
       "    <tr>\n",
       "      <th>75%</th>\n",
       "      <td>0.674728</td>\n",
       "    </tr>\n",
       "    <tr>\n",
       "      <th>max</th>\n",
       "      <td>4.796465</td>\n",
       "    </tr>\n",
       "  </tbody>\n",
       "</table>\n",
       "</div>"
      ],
      "text/plain": [
       "                    0\n",
       "count  1000000.000000\n",
       "mean        -0.000762\n",
       "std          0.999219\n",
       "min         -4.820940\n",
       "25%         -0.675762\n",
       "50%          0.000087\n",
       "75%          0.674728\n",
       "max          4.796465"
      ]
     },
     "execution_count": 42,
     "metadata": {},
     "output_type": "execute_result"
    }
   ],
   "source": [
    "df = pd.DataFrame(data)\n",
    "df.describe()"
   ]
  },
  {
   "cell_type": "code",
   "execution_count": 46,
   "id": "1de73679",
   "metadata": {},
   "outputs": [
    {
     "data": {
      "text/html": [
       "<div>\n",
       "<style scoped>\n",
       "    .dataframe tbody tr th:only-of-type {\n",
       "        vertical-align: middle;\n",
       "    }\n",
       "\n",
       "    .dataframe tbody tr th {\n",
       "        vertical-align: top;\n",
       "    }\n",
       "\n",
       "    .dataframe thead th {\n",
       "        text-align: right;\n",
       "    }\n",
       "</style>\n",
       "<table border=\"1\" class=\"dataframe\">\n",
       "  <thead>\n",
       "    <tr style=\"text-align: right;\">\n",
       "      <th></th>\n",
       "      <th>id</th>\n",
       "      <th>cena</th>\n",
       "      <th>liczba_pieter</th>\n",
       "      <th>liczba_pokoi</th>\n",
       "      <th>pietro</th>\n",
       "      <th>powierzchnia</th>\n",
       "      <th>rok_budowy</th>\n",
       "    </tr>\n",
       "  </thead>\n",
       "  <tbody>\n",
       "    <tr>\n",
       "      <th>0</th>\n",
       "      <td>46lCR</td>\n",
       "      <td>979000</td>\n",
       "      <td>5</td>\n",
       "      <td>4</td>\n",
       "      <td>5</td>\n",
       "      <td>83.00</td>\n",
       "      <td>2009</td>\n",
       "    </tr>\n",
       "    <tr>\n",
       "      <th>1</th>\n",
       "      <td>44Utr</td>\n",
       "      <td>1400000</td>\n",
       "      <td>7</td>\n",
       "      <td>3</td>\n",
       "      <td>2</td>\n",
       "      <td>82.94</td>\n",
       "      <td>2011</td>\n",
       "    </tr>\n",
       "    <tr>\n",
       "      <th>2</th>\n",
       "      <td>3Bdli</td>\n",
       "      <td>640659</td>\n",
       "      <td>4</td>\n",
       "      <td>3</td>\n",
       "      <td>2</td>\n",
       "      <td>64.13</td>\n",
       "      <td>2019</td>\n",
       "    </tr>\n",
       "    <tr>\n",
       "      <th>3</th>\n",
       "      <td>46q1p</td>\n",
       "      <td>410000</td>\n",
       "      <td>12</td>\n",
       "      <td>2</td>\n",
       "      <td>4</td>\n",
       "      <td>36.30</td>\n",
       "      <td>1975</td>\n",
       "    </tr>\n",
       "    <tr>\n",
       "      <th>4</th>\n",
       "      <td>468dI</td>\n",
       "      <td>415900</td>\n",
       "      <td>10</td>\n",
       "      <td>2</td>\n",
       "      <td>6</td>\n",
       "      <td>31.06</td>\n",
       "      <td>1974</td>\n",
       "    </tr>\n",
       "    <tr>\n",
       "      <th>...</th>\n",
       "      <td>...</td>\n",
       "      <td>...</td>\n",
       "      <td>...</td>\n",
       "      <td>...</td>\n",
       "      <td>...</td>\n",
       "      <td>...</td>\n",
       "      <td>...</td>\n",
       "    </tr>\n",
       "    <tr>\n",
       "      <th>4309</th>\n",
       "      <td>33tFV</td>\n",
       "      <td>2500000</td>\n",
       "      <td>2</td>\n",
       "      <td>6</td>\n",
       "      <td>2</td>\n",
       "      <td>210.00</td>\n",
       "      <td>2015</td>\n",
       "    </tr>\n",
       "    <tr>\n",
       "      <th>4310</th>\n",
       "      <td>2UNVb</td>\n",
       "      <td>1860000</td>\n",
       "      <td>8</td>\n",
       "      <td>3</td>\n",
       "      <td>7</td>\n",
       "      <td>98.00</td>\n",
       "      <td>2012</td>\n",
       "    </tr>\n",
       "    <tr>\n",
       "      <th>4311</th>\n",
       "      <td>2JILp</td>\n",
       "      <td>995000</td>\n",
       "      <td>13</td>\n",
       "      <td>5</td>\n",
       "      <td>8</td>\n",
       "      <td>138.00</td>\n",
       "      <td>1997</td>\n",
       "    </tr>\n",
       "    <tr>\n",
       "      <th>4312</th>\n",
       "      <td>2zmYc</td>\n",
       "      <td>2550000</td>\n",
       "      <td>3</td>\n",
       "      <td>3</td>\n",
       "      <td>1</td>\n",
       "      <td>118.50</td>\n",
       "      <td>2009</td>\n",
       "    </tr>\n",
       "    <tr>\n",
       "      <th>4313</th>\n",
       "      <td>1W1tp</td>\n",
       "      <td>850000</td>\n",
       "      <td>5</td>\n",
       "      <td>3</td>\n",
       "      <td>3</td>\n",
       "      <td>68.00</td>\n",
       "      <td>2002</td>\n",
       "    </tr>\n",
       "  </tbody>\n",
       "</table>\n",
       "<p>4314 rows × 7 columns</p>\n",
       "</div>"
      ],
      "text/plain": [
       "         id     cena  liczba_pieter  liczba_pokoi  pietro  powierzchnia  \\\n",
       "0     46lCR   979000              5             4       5         83.00   \n",
       "1     44Utr  1400000              7             3       2         82.94   \n",
       "2     3Bdli   640659              4             3       2         64.13   \n",
       "3     46q1p   410000             12             2       4         36.30   \n",
       "4     468dI   415900             10             2       6         31.06   \n",
       "...     ...      ...            ...           ...     ...           ...   \n",
       "4309  33tFV  2500000              2             6       2        210.00   \n",
       "4310  2UNVb  1860000              8             3       7         98.00   \n",
       "4311  2JILp   995000             13             5       8        138.00   \n",
       "4312  2zmYc  2550000              3             3       1        118.50   \n",
       "4313  1W1tp   850000              5             3       3         68.00   \n",
       "\n",
       "      rok_budowy  \n",
       "0           2009  \n",
       "1           2011  \n",
       "2           2019  \n",
       "3           1975  \n",
       "4           1974  \n",
       "...          ...  \n",
       "4309        2015  \n",
       "4310        2012  \n",
       "4311        1997  \n",
       "4312        2009  \n",
       "4313        2002  \n",
       "\n",
       "[4314 rows x 7 columns]"
      ]
     },
     "execution_count": 46,
     "metadata": {},
     "output_type": "execute_result"
    }
   ],
   "source": [
    "df =pd.read_csv(\"http://51.91.120.89/extras/otodom.csv\")\n",
    "df"
   ]
  },
  {
   "cell_type": "code",
   "execution_count": 50,
   "id": "f0bfc402",
   "metadata": {},
   "outputs": [
    {
     "data": {
      "image/png": "[encoded data removed]",
      "text/plain": [
       "<Figure size 864x432 with 1 Axes>"
      ]
     },
     "metadata": {
      "needs_background": "light"
     },
     "output_type": "display_data"
    }
   ],
   "source": [
    "data = df[df.cena < 800_000].cena\n",
    "plt.figure(figsize=(12,6))\n",
    "plt.hist(data, bins=20)\n",
    "plt.axvline( np.median(data), color=\"black\")  #pionowa krecha\n",
    "plt.axvline( np.median(data)+np.std(data), color=\"green\");plt.axvline( np.median(data)- np.std(data), color=\"green\")\n",
    "plt.axvline( np.median(data)+2*np.std(data), color=\"yellow\");plt.axvline( np.median(data)- 2*np.std(data), color=\"yellow\")\n",
    "plt.axvline( np.median(data)+3*np.std(data), color=\"r\");plt.axvline( np.median(data)- 3*np.std(data), color=\"r\")\n",
    "plt.show()"
   ]
  },
  {
   "cell_type": "code",
   "execution_count": 48,
   "id": "dd682f96",
   "metadata": {},
   "outputs": [
    {
     "data": {
      "text/html": [
       "<div>\n",
       "<style scoped>\n",
       "    .dataframe tbody tr th:only-of-type {\n",
       "        vertical-align: middle;\n",
       "    }\n",
       "\n",
       "    .dataframe tbody tr th {\n",
       "        vertical-align: top;\n",
       "    }\n",
       "\n",
       "    .dataframe thead th {\n",
       "        text-align: right;\n",
       "    }\n",
       "</style>\n",
       "<table border=\"1\" class=\"dataframe\">\n",
       "  <thead>\n",
       "    <tr style=\"text-align: right;\">\n",
       "      <th></th>\n",
       "      <th>cena</th>\n",
       "      <th>liczba_pieter</th>\n",
       "      <th>liczba_pokoi</th>\n",
       "      <th>pietro</th>\n",
       "      <th>powierzchnia</th>\n",
       "      <th>rok_budowy</th>\n",
       "    </tr>\n",
       "  </thead>\n",
       "  <tbody>\n",
       "    <tr>\n",
       "      <th>count</th>\n",
       "      <td>4.314000e+03</td>\n",
       "      <td>4314.000000</td>\n",
       "      <td>4314.000000</td>\n",
       "      <td>4314.000000</td>\n",
       "      <td>4314.000000</td>\n",
       "      <td>4314.000000</td>\n",
       "    </tr>\n",
       "    <tr>\n",
       "      <th>mean</th>\n",
       "      <td>8.616312e+05</td>\n",
       "      <td>7.210246</td>\n",
       "      <td>2.807371</td>\n",
       "      <td>3.400093</td>\n",
       "      <td>70.346140</td>\n",
       "      <td>2010.707464</td>\n",
       "    </tr>\n",
       "    <tr>\n",
       "      <th>std</th>\n",
       "      <td>6.459324e+05</td>\n",
       "      <td>4.065722</td>\n",
       "      <td>1.069238</td>\n",
       "      <td>2.657749</td>\n",
       "      <td>40.817224</td>\n",
       "      <td>272.651375</td>\n",
       "    </tr>\n",
       "    <tr>\n",
       "      <th>min</th>\n",
       "      <td>1.873300e+05</td>\n",
       "      <td>1.000000</td>\n",
       "      <td>1.000000</td>\n",
       "      <td>0.000000</td>\n",
       "      <td>14.410000</td>\n",
       "      <td>1970.000000</td>\n",
       "    </tr>\n",
       "    <tr>\n",
       "      <th>25%</th>\n",
       "      <td>5.250000e+05</td>\n",
       "      <td>4.000000</td>\n",
       "      <td>2.000000</td>\n",
       "      <td>1.000000</td>\n",
       "      <td>45.200000</td>\n",
       "      <td>2000.000000</td>\n",
       "    </tr>\n",
       "    <tr>\n",
       "      <th>50%</th>\n",
       "      <td>6.674315e+05</td>\n",
       "      <td>7.000000</td>\n",
       "      <td>3.000000</td>\n",
       "      <td>3.000000</td>\n",
       "      <td>60.000000</td>\n",
       "      <td>2012.000000</td>\n",
       "    </tr>\n",
       "    <tr>\n",
       "      <th>75%</th>\n",
       "      <td>9.399000e+05</td>\n",
       "      <td>10.000000</td>\n",
       "      <td>3.000000</td>\n",
       "      <td>5.000000</td>\n",
       "      <td>81.000000</td>\n",
       "      <td>2020.000000</td>\n",
       "    </tr>\n",
       "    <tr>\n",
       "      <th>max</th>\n",
       "      <td>1.000000e+07</td>\n",
       "      <td>30.000000</td>\n",
       "      <td>9.000000</td>\n",
       "      <td>10.000000</td>\n",
       "      <td>506.000000</td>\n",
       "      <td>19885.000000</td>\n",
       "    </tr>\n",
       "  </tbody>\n",
       "</table>\n",
       "</div>"
      ],
      "text/plain": [
       "               cena  liczba_pieter  liczba_pokoi       pietro  powierzchnia  \\\n",
       "count  4.314000e+03    4314.000000   4314.000000  4314.000000   4314.000000   \n",
       "mean   8.616312e+05       7.210246      2.807371     3.400093     70.346140   \n",
       "std    6.459324e+05       4.065722      1.069238     2.657749     40.817224   \n",
       "min    1.873300e+05       1.000000      1.000000     0.000000     14.410000   \n",
       "25%    5.250000e+05       4.000000      2.000000     1.000000     45.200000   \n",
       "50%    6.674315e+05       7.000000      3.000000     3.000000     60.000000   \n",
       "75%    9.399000e+05      10.000000      3.000000     5.000000     81.000000   \n",
       "max    1.000000e+07      30.000000      9.000000    10.000000    506.000000   \n",
       "\n",
       "         rok_budowy  \n",
       "count   4314.000000  \n",
       "mean    2010.707464  \n",
       "std      272.651375  \n",
       "min     1970.000000  \n",
       "25%     2000.000000  \n",
       "50%     2012.000000  \n",
       "75%     2020.000000  \n",
       "max    19885.000000  "
      ]
     },
     "execution_count": 48,
     "metadata": {},
     "output_type": "execute_result"
    }
   ],
   "source": [
    "df.describe()"
   ]
  },
  {
   "cell_type": "code",
   "execution_count": null,
   "id": "85d7c6b1",
   "metadata": {},
   "outputs": [],
   "source": []
  }
 ],
 "metadata": {
  "kernelspec": {
   "display_name": "Python 3",
   "language": "python",
   "name": "python3"
  },
  "language_info": {
   "codemirror_mode": {
    "name": "ipython",
    "version": 3
   },
   "file_extension": ".py",
   "mimetype": "text/x-python",
   "name": "python",
   "nbconvert_exporter": "python",
   "pygments_lexer": "ipython3",
   "version": "3.8.8"
  }
 },
 "nbformat": 4,
 "nbformat_minor": 5
}
