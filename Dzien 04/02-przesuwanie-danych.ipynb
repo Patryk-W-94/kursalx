{
 "cells": [
  {
   "cell_type": "code",
   "execution_count": 1,
   "id": "85a5a114",
   "metadata": {},
   "outputs": [],
   "source": [
    "import pandas as pd"
   ]
  },
  {
   "cell_type": "code",
   "execution_count": 9,
   "id": "401dabed",
   "metadata": {},
   "outputs": [
    {
     "data": {
      "text/html": [
       "<div>\n",
       "<style scoped>\n",
       "    .dataframe tbody tr th:only-of-type {\n",
       "        vertical-align: middle;\n",
       "    }\n",
       "\n",
       "    .dataframe tbody tr th {\n",
       "        vertical-align: top;\n",
       "    }\n",
       "\n",
       "    .dataframe thead th {\n",
       "        text-align: right;\n",
       "    }\n",
       "</style>\n",
       "<table border=\"1\" class=\"dataframe\">\n",
       "  <thead>\n",
       "    <tr style=\"text-align: right;\">\n",
       "      <th></th>\n",
       "      <th>Data</th>\n",
       "      <th>Otwarcie</th>\n",
       "      <th>Najwyzszy</th>\n",
       "      <th>Najnizszy</th>\n",
       "      <th>Zamkniecie</th>\n",
       "      <th>Wolumen</th>\n",
       "    </tr>\n",
       "  </thead>\n",
       "  <tbody>\n",
       "    <tr>\n",
       "      <th>0</th>\n",
       "      <td>2020-01-02</td>\n",
       "      <td>274.10</td>\n",
       "      <td>278.77</td>\n",
       "      <td>273.13</td>\n",
       "      <td>278.77</td>\n",
       "      <td>172311</td>\n",
       "    </tr>\n",
       "    <tr>\n",
       "      <th>1</th>\n",
       "      <td>2020-01-03</td>\n",
       "      <td>278.96</td>\n",
       "      <td>281.69</td>\n",
       "      <td>273.23</td>\n",
       "      <td>277.99</td>\n",
       "      <td>251004</td>\n",
       "    </tr>\n",
       "    <tr>\n",
       "      <th>2</th>\n",
       "      <td>2020-01-07</td>\n",
       "      <td>279.06</td>\n",
       "      <td>280.33</td>\n",
       "      <td>274.98</td>\n",
       "      <td>275.85</td>\n",
       "      <td>218998</td>\n",
       "    </tr>\n",
       "    <tr>\n",
       "      <th>3</th>\n",
       "      <td>2020-01-08</td>\n",
       "      <td>275.56</td>\n",
       "      <td>275.85</td>\n",
       "      <td>269.54</td>\n",
       "      <td>273.23</td>\n",
       "      <td>230932</td>\n",
       "    </tr>\n",
       "    <tr>\n",
       "      <th>4</th>\n",
       "      <td>2020-01-09</td>\n",
       "      <td>276.05</td>\n",
       "      <td>280.52</td>\n",
       "      <td>275.08</td>\n",
       "      <td>280.52</td>\n",
       "      <td>200512</td>\n",
       "    </tr>\n",
       "    <tr>\n",
       "      <th>...</th>\n",
       "      <td>...</td>\n",
       "      <td>...</td>\n",
       "      <td>...</td>\n",
       "      <td>...</td>\n",
       "      <td>...</td>\n",
       "      <td>...</td>\n",
       "    </tr>\n",
       "    <tr>\n",
       "      <th>562</th>\n",
       "      <td>2022-03-28</td>\n",
       "      <td>175.12</td>\n",
       "      <td>178.86</td>\n",
       "      <td>173.78</td>\n",
       "      <td>176.40</td>\n",
       "      <td>207048</td>\n",
       "    </tr>\n",
       "    <tr>\n",
       "      <th>563</th>\n",
       "      <td>2022-03-29</td>\n",
       "      <td>177.24</td>\n",
       "      <td>179.62</td>\n",
       "      <td>174.50</td>\n",
       "      <td>178.30</td>\n",
       "      <td>274921</td>\n",
       "    </tr>\n",
       "    <tr>\n",
       "      <th>564</th>\n",
       "      <td>2022-03-30</td>\n",
       "      <td>178.30</td>\n",
       "      <td>182.80</td>\n",
       "      <td>177.80</td>\n",
       "      <td>181.62</td>\n",
       "      <td>284349</td>\n",
       "    </tr>\n",
       "    <tr>\n",
       "      <th>565</th>\n",
       "      <td>2022-03-31</td>\n",
       "      <td>180.50</td>\n",
       "      <td>182.02</td>\n",
       "      <td>173.74</td>\n",
       "      <td>173.74</td>\n",
       "      <td>448331</td>\n",
       "    </tr>\n",
       "    <tr>\n",
       "      <th>566</th>\n",
       "      <td>2022-04-01</td>\n",
       "      <td>174.00</td>\n",
       "      <td>176.70</td>\n",
       "      <td>173.10</td>\n",
       "      <td>175.76</td>\n",
       "      <td>227596</td>\n",
       "    </tr>\n",
       "  </tbody>\n",
       "</table>\n",
       "<p>567 rows × 6 columns</p>\n",
       "</div>"
      ],
      "text/plain": [
       "           Data  Otwarcie  Najwyzszy  Najnizszy  Zamkniecie  Wolumen\n",
       "0    2020-01-02    274.10     278.77     273.13      278.77   172311\n",
       "1    2020-01-03    278.96     281.69     273.23      277.99   251004\n",
       "2    2020-01-07    279.06     280.33     274.98      275.85   218998\n",
       "3    2020-01-08    275.56     275.85     269.54      273.23   230932\n",
       "4    2020-01-09    276.05     280.52     275.08      280.52   200512\n",
       "..          ...       ...        ...        ...         ...      ...\n",
       "562  2022-03-28    175.12     178.86     173.78      176.40   207048\n",
       "563  2022-03-29    177.24     179.62     174.50      178.30   274921\n",
       "564  2022-03-30    178.30     182.80     177.80      181.62   284349\n",
       "565  2022-03-31    180.50     182.02     173.74      173.74   448331\n",
       "566  2022-04-01    174.00     176.70     173.10      175.76   227596\n",
       "\n",
       "[567 rows x 6 columns]"
      ]
     },
     "execution_count": 9,
     "metadata": {},
     "output_type": "execute_result"
    }
   ],
   "source": [
    "url = \"https://stooq.pl/q/d/l/?s=cdr&d1=20200101&d2=20220401&i=d\"\n",
    "df = pd.read_csv(url)\n",
    "df"
   ]
  },
  {
   "cell_type": "code",
   "execution_count": 10,
   "id": "c348d3d5",
   "metadata": {},
   "outputs": [
    {
     "name": "stderr",
     "output_type": "stream",
     "text": [
      "<ipython-input-10-157f8404390f>:1: FutureWarning: The pandas.np module is deprecated and will be removed from pandas in a future version. Import numpy directly instead\n",
      "  df[\"Zmiana_1D\"] = pd.np.NaN\n"
     ]
    }
   ],
   "source": [
    "df[\"Zmiana_1D\"] = pd.np.NaN"
   ]
  },
  {
   "cell_type": "code",
   "execution_count": 12,
   "id": "a7f845e9",
   "metadata": {},
   "outputs": [
    {
     "name": "stdout",
     "output_type": "stream",
     "text": [
      "132 ms ± 1.95 ms per loop (mean ± std. dev. of 10 runs, 10 loops each)\n"
     ]
    }
   ],
   "source": [
    "%%timeit -r 10 -n 10\n",
    "for i in range(1, len(df)):\n",
    "    df.iloc[i, 6] = df.iloc[i,4] - df.iloc[i-1,4]"
   ]
  },
  {
   "cell_type": "code",
   "execution_count": 14,
   "id": "23db000b",
   "metadata": {
    "collapsed": true
   },
   "outputs": [
    {
     "data": {
      "text/plain": [
       "0      278.77\n",
       "1      277.99\n",
       "2      275.85\n",
       "3      273.23\n",
       "4      280.52\n",
       "        ...  \n",
       "562    176.40\n",
       "563    178.30\n",
       "564    181.62\n",
       "565    173.74\n",
       "566    175.76\n",
       "Name: Zamkniecie, Length: 567, dtype: float64"
      ]
     },
     "execution_count": 14,
     "metadata": {},
     "output_type": "execute_result"
    }
   ],
   "source": [
    "df.Zamkniecie"
   ]
  },
  {
   "cell_type": "code",
   "execution_count": 19,
   "id": "bffa98fd",
   "metadata": {},
   "outputs": [
    {
     "name": "stdout",
     "output_type": "stream",
     "text": [
      "516 µs ± 201 µs per loop (mean ± std. dev. of 10 runs, 10 loops each)\n"
     ]
    }
   ],
   "source": [
    "%%timeit -r 10 -n 10\n",
    "df[\"Shift_1D\"] = df.Zamkniecie - df.Zamkniecie.shift(1)  # szybsza wersja niz petla"
   ]
  },
  {
   "cell_type": "code",
   "execution_count": null,
   "id": "6eba4c59",
   "metadata": {},
   "outputs": [],
   "source": []
  }
 ],
 "metadata": {
  "kernelspec": {
   "display_name": "Python 3",
   "language": "python",
   "name": "python3"
  },
  "language_info": {
   "codemirror_mode": {
    "name": "ipython",
    "version": 3
   },
   "file_extension": ".py",
   "mimetype": "text/x-python",
   "name": "python",
   "nbconvert_exporter": "python",
   "pygments_lexer": "ipython3",
   "version": "3.8.8"
  }
 },
 "nbformat": 4,
 "nbformat_minor": 5
}
